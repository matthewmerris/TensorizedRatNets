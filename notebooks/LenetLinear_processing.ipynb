{
 "cells": [
  {
   "cell_type": "code",
   "execution_count": 8,
   "id": "7e37e061-193d-4053-94f1-36bf8fe2e548",
   "metadata": {},
   "outputs": [],
   "source": [
    "import sys\n",
    "sys.path.append('../src/')\n",
    "import time\n",
    "import os\n",
    "import copy\n",
    "\n",
    "import numpy as np\n",
    "import tensorly as tn\n",
    "import matlab.engine\n",
    "\n",
    "from loewnerize_acts import loewnerize_acts\n",
    "import ll1_tools"
   ]
  },
  {
   "cell_type": "markdown",
   "id": "6fe1a6a1-d762-4329-a4af-c40506ba9476",
   "metadata": {},
   "source": [
    "## Load raw data for LenetLinear classifier model"
   ]
  },
  {
   "cell_type": "code",
   "execution_count": 2,
   "id": "53743212-36b1-4813-93d2-4dffa78db327",
   "metadata": {},
   "outputs": [
    {
     "name": "stdout",
     "output_type": "stream",
     "text": [
      "Inputs shape\n",
      "(39, 256, 10)\n",
      "Outputs shape\n",
      "(39, 256, 10)\n",
      "-5.9573436\n"
     ]
    }
   ],
   "source": [
    "targets_path = '../data/LenetLinear/activations/test/targets.npy'\n",
    "targets = np.load(targets_path)\n",
    "\n",
    "inputs_path = '../data/LenetLinear/activations/test/99/layers.layer_0.linear.npy'\n",
    "inputs_raw = np.load(inputs_path)\n",
    "print('Inputs shape')\n",
    "print(inputs_raw.shape)\n",
    "\n",
    "outputs_path = '../data/LenetLinear/activations/test/99/layers.layer_0.rat.npy'\n",
    "outputs_raw = np.load(outputs_path)\n",
    "print('Outputs shape')\n",
    "print(outputs_raw.shape)\n",
    "print(outputs_raw[0,0,0])\n",
    "\n",
    "# tensorlab_path = '~/ware/matlab_tools/tensorlab'\n",
    "tensorlab_path = '~/tools/matlab_tools/Tensorlab'"
   ]
  },
  {
   "cell_type": "code",
   "execution_count": 3,
   "id": "70f98a4f-f34f-490f-9ffa-a98fda7cdf21",
   "metadata": {},
   "outputs": [],
   "source": [
    "lwn_tensors = loewnerize_acts(inputs_raw, outputs_raw, targets, tensorlab_path)\n",
    "datapath = '../data/LenetLinear/activations/test/99/loewnerized_acts'\n",
    "np.savez(datapath, *lwn_tensors)"
   ]
  },
  {
   "cell_type": "code",
   "execution_count": 10,
   "id": "fa543887-1d4b-4e58-a9a2-2852c35a1c67",
   "metadata": {},
   "outputs": [
    {
     "name": "stdout",
     "output_type": "stream",
     "text": [
      "(5, 5, 979)\n",
      "<class 'numpy.ndarray'>\n",
      "(5, 5, 1133)\n",
      "<class 'numpy.ndarray'>\n",
      "(5, 5, 1030)\n",
      "<class 'numpy.ndarray'>\n",
      "(5, 5, 1008)\n",
      "<class 'numpy.ndarray'>\n",
      "(5, 5, 980)\n",
      "<class 'numpy.ndarray'>\n",
      "(5, 5, 890)\n",
      "<class 'numpy.ndarray'>\n",
      "(5, 5, 956)\n",
      "<class 'numpy.ndarray'>\n",
      "(5, 5, 1027)\n",
      "<class 'numpy.ndarray'>\n",
      "(5, 5, 973)\n",
      "<class 'numpy.ndarray'>\n",
      "(5, 5, 1008)\n",
      "<class 'numpy.ndarray'>\n"
     ]
    }
   ],
   "source": [
    "for lwn_trgt in lwn_tensors:\n",
    "    print(lwn_trgt.shape)\n",
    "    print(type(lwn_trgt))"
   ]
  },
  {
   "cell_type": "markdown",
   "id": "7577b427-8e79-469a-8131-30d8d8c75cd5",
   "metadata": {},
   "source": [
    "## perform (L,L,1) decomposition - per target (0-9)"
   ]
  },
  {
   "cell_type": "code",
   "execution_count": 9,
   "id": "273783a7-fbd1-4345-a15b-3d128a172730",
   "metadata": {},
   "outputs": [
    {
     "name": "stderr",
     "output_type": "stream",
     "text": [
      "Index in position 3 exceeds array bounds. Index must not exceed 25.\n",
      "\n",
      "Error in mlsvd_rsi (line 109)\n",
      "    S = Y(ind{:});\n",
      "\n",
      "Error in ll1 (line 356)\n",
      "    [V,T] = options.Compression(T,size_core,options.CompressionOptions);\n",
      "\n"
     ]
    },
    {
     "ename": "MatlabExecutionError",
     "evalue": "\n  File /Users/matthewmerris/tools/Matlab_tools/Tensorlab/mlsvd_rsi.m, line 109, in mlsvd_rsi\n\n  File /Users/matthewmerris/tools/Matlab_tools/Tensorlab/ll1.m, line 356, in ll1\nIndex in position 3 exceeds array bounds. Index must not exceed 25.\n",
     "output_type": "error",
     "traceback": [
      "\u001b[0;31m---------------------------------------------------------------------------\u001b[0m",
      "\u001b[0;31mMatlabExecutionError\u001b[0m                      Traceback (most recent call last)",
      "Cell \u001b[0;32mIn[9], line 14\u001b[0m\n\u001b[1;32m     12\u001b[0m tic \u001b[38;5;241m=\u001b[39m time\u001b[38;5;241m.\u001b[39mperf_counter()\n\u001b[1;32m     13\u001b[0m \u001b[38;5;28;01mfor\u001b[39;00m tns \u001b[38;5;129;01min\u001b[39;00m lwn_tensors:\n\u001b[0;32m---> 14\u001b[0m     tmp_U, tmp_out \u001b[38;5;241m=\u001b[39m \u001b[43meng\u001b[49m\u001b[38;5;241;43m.\u001b[39;49m\u001b[43mll1\u001b[49m\u001b[43m(\u001b[49m\u001b[43mtns\u001b[49m\u001b[43m,\u001b[49m\u001b[43m \u001b[49m\u001b[43mL\u001b[49m\u001b[43m,\u001b[49m\u001b[43m \u001b[49m\u001b[43mnargout\u001b[49m\u001b[38;5;241;43m=\u001b[39;49m\u001b[38;5;241;43m2\u001b[39;49m\u001b[43m)\u001b[49m\n\u001b[1;32m     15\u001b[0m     Us\u001b[38;5;241m.\u001b[39mappend(tmp_U)\n\u001b[1;32m     16\u001b[0m     outs\u001b[38;5;241m.\u001b[39mappend(tmp_out)\n",
      "File \u001b[0;32m~/.local/share/virtualenvs/TensorizedRatNets-xZH_A-cC/lib/python3.9/site-packages/matlab/engine/matlabengine.py:70\u001b[0m, in \u001b[0;36mMatlabFunc.__call__\u001b[0;34m(self, *args, **kwargs)\u001b[0m\n\u001b[1;32m     68\u001b[0m     \u001b[38;5;28;01mreturn\u001b[39;00m FutureResult(\u001b[38;5;28mself\u001b[39m\u001b[38;5;241m.\u001b[39m_engine(), future, nargs, _stdout, _stderr, feval\u001b[38;5;241m=\u001b[39m\u001b[38;5;28;01mTrue\u001b[39;00m)\n\u001b[1;32m     69\u001b[0m \u001b[38;5;28;01melse\u001b[39;00m:\n\u001b[0;32m---> 70\u001b[0m     \u001b[38;5;28;01mreturn\u001b[39;00m \u001b[43mFutureResult\u001b[49m\u001b[43m(\u001b[49m\u001b[38;5;28;43mself\u001b[39;49m\u001b[38;5;241;43m.\u001b[39;49m\u001b[43m_engine\u001b[49m\u001b[43m(\u001b[49m\u001b[43m)\u001b[49m\u001b[43m,\u001b[49m\u001b[43m \u001b[49m\u001b[43mfuture\u001b[49m\u001b[43m,\u001b[49m\u001b[43m \u001b[49m\u001b[43mnargs\u001b[49m\u001b[43m,\u001b[49m\u001b[43m \u001b[49m\u001b[43m_stdout\u001b[49m\u001b[43m,\u001b[49m\n\u001b[1;32m     71\u001b[0m \u001b[43m                        \u001b[49m\u001b[43m_stderr\u001b[49m\u001b[43m,\u001b[49m\u001b[43m \u001b[49m\u001b[43mfeval\u001b[49m\u001b[38;5;241;43m=\u001b[39;49m\u001b[38;5;28;43;01mTrue\u001b[39;49;00m\u001b[43m)\u001b[49m\u001b[38;5;241;43m.\u001b[39;49m\u001b[43mresult\u001b[49m\u001b[43m(\u001b[49m\u001b[43m)\u001b[49m\n",
      "File \u001b[0;32m~/.local/share/virtualenvs/TensorizedRatNets-xZH_A-cC/lib/python3.9/site-packages/matlab/engine/futureresult.py:67\u001b[0m, in \u001b[0;36mFutureResult.result\u001b[0;34m(self, timeout)\u001b[0m\n\u001b[1;32m     64\u001b[0m     \u001b[38;5;28;01mif\u001b[39;00m timeout \u001b[38;5;241m<\u001b[39m \u001b[38;5;241m0\u001b[39m:\n\u001b[1;32m     65\u001b[0m         \u001b[38;5;28;01mraise\u001b[39;00m \u001b[38;5;167;01mTypeError\u001b[39;00m(pythonengine\u001b[38;5;241m.\u001b[39mgetMessage(\u001b[38;5;124m'\u001b[39m\u001b[38;5;124mTimeoutCannotBeNegative\u001b[39m\u001b[38;5;124m'\u001b[39m))\n\u001b[0;32m---> 67\u001b[0m \u001b[38;5;28;01mreturn\u001b[39;00m \u001b[38;5;28;43mself\u001b[39;49m\u001b[38;5;241;43m.\u001b[39;49m\u001b[43m__future\u001b[49m\u001b[38;5;241;43m.\u001b[39;49m\u001b[43mresult\u001b[49m\u001b[43m(\u001b[49m\u001b[43mtimeout\u001b[49m\u001b[43m)\u001b[49m\n",
      "File \u001b[0;32m~/.local/share/virtualenvs/TensorizedRatNets-xZH_A-cC/lib/python3.9/site-packages/matlab/engine/fevalfuture.py:82\u001b[0m, in \u001b[0;36mFevalFuture.result\u001b[0;34m(self, timeout)\u001b[0m\n\u001b[1;32m     79\u001b[0m \u001b[38;5;28;01mif\u001b[39;00m \u001b[38;5;129;01mnot\u001b[39;00m result_ready:\n\u001b[1;32m     80\u001b[0m     \u001b[38;5;28;01mraise\u001b[39;00m \u001b[38;5;167;01mTimeoutError\u001b[39;00m(pythonengine\u001b[38;5;241m.\u001b[39mgetMessage(\u001b[38;5;124m'\u001b[39m\u001b[38;5;124mMatlabFunctionTimeout\u001b[39m\u001b[38;5;124m'\u001b[39m))\n\u001b[0;32m---> 82\u001b[0m \u001b[38;5;28mself\u001b[39m\u001b[38;5;241m.\u001b[39m_result \u001b[38;5;241m=\u001b[39m \u001b[43mpythonengine\u001b[49m\u001b[38;5;241;43m.\u001b[39;49m\u001b[43mgetFEvalResult\u001b[49m\u001b[43m(\u001b[49m\u001b[38;5;28;43mself\u001b[39;49m\u001b[38;5;241;43m.\u001b[39;49m\u001b[43m_future\u001b[49m\u001b[43m,\u001b[49m\u001b[38;5;28;43mself\u001b[39;49m\u001b[38;5;241;43m.\u001b[39;49m\u001b[43m_nargout\u001b[49m\u001b[43m,\u001b[49m\u001b[43m \u001b[49m\u001b[38;5;28;43;01mNone\u001b[39;49;00m\u001b[43m,\u001b[49m\u001b[43m \u001b[49m\u001b[43mout\u001b[49m\u001b[38;5;241;43m=\u001b[39;49m\u001b[38;5;28;43mself\u001b[39;49m\u001b[38;5;241;43m.\u001b[39;49m\u001b[43m_out\u001b[49m\u001b[43m,\u001b[49m\u001b[43m \u001b[49m\u001b[43merr\u001b[49m\u001b[38;5;241;43m=\u001b[39;49m\u001b[38;5;28;43mself\u001b[39;49m\u001b[38;5;241;43m.\u001b[39;49m\u001b[43m_err\u001b[49m\u001b[43m)\u001b[49m\n\u001b[1;32m     83\u001b[0m \u001b[38;5;28mself\u001b[39m\u001b[38;5;241m.\u001b[39m_retrieved \u001b[38;5;241m=\u001b[39m \u001b[38;5;28;01mTrue\u001b[39;00m\n\u001b[1;32m     84\u001b[0m \u001b[38;5;28;01mreturn\u001b[39;00m \u001b[38;5;28mself\u001b[39m\u001b[38;5;241m.\u001b[39m_result\n",
      "\u001b[0;31mMatlabExecutionError\u001b[0m: \n  File /Users/matthewmerris/tools/Matlab_tools/Tensorlab/mlsvd_rsi.m, line 109, in mlsvd_rsi\n\n  File /Users/matthewmerris/tools/Matlab_tools/Tensorlab/ll1.m, line 356, in ll1\nIndex in position 3 exceeds array bounds. Index must not exceed 25.\n"
     ]
    }
   ],
   "source": [
    "eng = matlab.engine.start_matlab()\n",
    "s = eng.genpath(tensorlab_path)\n",
    "eng.addpath(s, nargout=0)\n",
    "\n",
    "num_terms = 400\n",
    "rat_deg = 3\n",
    "\n",
    "L = rat_deg * np.ones(num_terms)\n",
    "Us = list()\n",
    "outs = list()\n",
    "\n",
    "tic = time.perf_counter()\n",
    "for tns in lwn_tensors:\n",
    "    tmp_U, tmp_out = eng.ll1(tns, L, nargout=2)\n",
    "    Us.append(tmp_U)\n",
    "    outs.append(tmp_out)\n",
    "toc = time.perf_counter()\n",
    "print(toc-tic)"
   ]
  },
  {
   "cell_type": "markdown",
   "id": "d9bd9387-2b9e-435c-bee0-d4cb91e51983",
   "metadata": {},
   "source": [
    "## perform (L,L,1) decomposition - entire collection"
   ]
  },
  {
   "cell_type": "code",
   "execution_count": null,
   "id": "e430653a-d911-4a18-9956-2cde93f94e4f",
   "metadata": {},
   "outputs": [],
   "source": [
    "super_lwn = "
   ]
  }
 ],
 "metadata": {
  "kernelspec": {
   "display_name": "Python 3 (ipykernel)",
   "language": "python",
   "name": "python3"
  },
  "language_info": {
   "codemirror_mode": {
    "name": "ipython",
    "version": 3
   },
   "file_extension": ".py",
   "mimetype": "text/x-python",
   "name": "python",
   "nbconvert_exporter": "python",
   "pygments_lexer": "ipython3",
   "version": "3.9.12"
  }
 },
 "nbformat": 4,
 "nbformat_minor": 5
}
