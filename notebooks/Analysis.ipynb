{
 "cells": [
  {
   "cell_type": "markdown",
   "id": "42300e1f-3f3e-4d1e-b38b-86db2cdc5418",
   "metadata": {},
   "source": [
    "# Analyzing Loewnerized activations (split by target)\n",
    "## starting with lenet 300-100"
   ]
  },
  {
   "cell_type": "code",
   "execution_count": 1,
   "id": "49bb38d9-c61d-4de0-a03d-80a6ebcf1a51",
   "metadata": {},
   "outputs": [],
   "source": [
    "import numpy as np\n",
    "import tensorly as tn\n"
   ]
  },
  {
   "cell_type": "code",
   "execution_count": 2,
   "id": "0f0c52d7-c35c-41e9-a5f6-2d6d9d3c5b13",
   "metadata": {},
   "outputs": [],
   "source": [
    "# load 300 node and 100 node layer activations\n",
    "layer_300_path = '/home/matthewmerris/repos/TensorizedRatNets/data/Lenet300100/activations/test/99/ten_acts/300_node_act_tens.npz'\n",
    "# layer_300_path = '/Users/matthewmerris/dev/research/TensorizedRatNets/data/Lenet300100/activations/test/99/loewnerized_acts/300_node_act_tens.npz'\n",
    "layer_300 = np.load(layer_300_path)\n",
    "\n",
    "layer_100_path = '/home/matthewmerris/repos/TensorizedRatNets/data/Lenet300100/activations/test/99/ten_acts/100_node_act_tens.npz'\n",
    "# layer_100_path = '/Users/matthewmerris/dev/research/TensorizedRatNets/data/Lenet300100/activations/test/99/loewnerized_acts/100_node_act_tens.npz'\n",
    "layer_100 = np.load(layer_100_path)"
   ]
  },
  {
   "cell_type": "markdown",
   "id": "b9cfb86a-7715-48d7-b22d-fa08a640d045",
   "metadata": {},
   "source": [
    "## start with 300 node layer"
   ]
  },
  {
   "cell_type": "code",
   "execution_count": 3,
   "id": "bf27fe91-2b13-4c62-8567-e071e87d3487",
   "metadata": {},
   "outputs": [
    {
     "name": "stdout",
     "output_type": "stream",
     "text": [
      "(150, 150, 979)\n",
      "(150, 150, 980)\n"
     ]
    }
   ],
   "source": [
    "lwn_0s = layer_300.f.arr_0\n",
    "lwn_1s = layer_300.f.arr_1\n",
    "print(lwn_0s.shape)\n",
    "print(lwn_1s.shape)\n",
    "lwn_0s_1st_mode = tn.unfold(lwn_0s,0)\n",
    "lwn_0s_2nd_mode = tn.unfold(lwn_0s,1)\n",
    "lwn_0s_3rd_mode = tn.unfold(lwn_0s,2)\n",
    "lwn_1s_1st_mode = tn.unfold(lwn_1s,0)\n",
    "lwn_1s_2nd_mode = tn.unfold(lwn_1s,1)\n",
    "lwn_1s_3rd_mode = tn.unfold(lwn_1s,2)\n"
   ]
  },
  {
   "cell_type": "code",
   "execution_count": 15,
   "id": "e8051e0a-9a31-4e4f-b883-82858c88a6d9",
   "metadata": {},
   "outputs": [
    {
     "name": "stdout",
     "output_type": "stream",
     "text": [
      "(150, 150, 50)\n",
      "(150, 150, 50)\n"
     ]
    }
   ],
   "source": [
    "lwn_0s_a = lwn_0s[:,:,0:50]\n",
    "print(lwn_0s_a.shape)\n",
    "lwn_0s_b = lwn_0s[:,:,51:101]\n",
    "print(lwn_0s_a.shape)"
   ]
  },
  {
   "cell_type": "code",
   "execution_count": 16,
   "id": "6904a132-3659-4800-aa86-d96776a69ad5",
   "metadata": {},
   "outputs": [],
   "source": [
    "# craft modal unfoldings\n",
    "lwn_0s_a_1st_mode = np.transpose(tn.unfold(lwn_0s_a,0))\n",
    "lwn_0s_a_2nd_mode = np.transpose(tn.unfold(lwn_0s_a,1))\n",
    "lwn_0s_a_3rd_mode = np.transpose(tn.unfold(lwn_0s_a,2))\n",
    "\n",
    "lwn_0s_b_1st_mode = np.transpose(tn.unfold(lwn_0s_b,0))\n",
    "lwn_0s_b_2nd_mode = np.transpose(tn.unfold(lwn_0s_b,1))\n",
    "lwn_0s_b_3rd_mode = np.transpose(tn.unfold(lwn_0s_b,2))\n",
    "\n"
   ]
  },
  {
   "cell_type": "markdown",
   "id": "be172b32-d75c-44b7-ac6e-81a5eacb0268",
   "metadata": {},
   "source": [
    "### Compare column spaces ala Domanov and De Lathauwer"
   ]
  },
  {
   "cell_type": "code",
   "execution_count": 17,
   "id": "63597761-67ab-4e33-a4f3-3571c54d9ced",
   "metadata": {},
   "outputs": [],
   "source": [
    "U_a, S_a, Vh_a = np.linalg.svd(lwn_0s_a_1st_mode)\n",
    "U_b, S_b, Vh_b = np.linalg.svd(lwn_0s_b_1st_mode)"
   ]
  },
  {
   "cell_type": "code",
   "execution_count": 21,
   "id": "cefedd85-7659-44e8-afbb-c9cace94cd5c",
   "metadata": {},
   "outputs": [
    {
     "name": "stdout",
     "output_type": "stream",
     "text": [
      "(150,)\n",
      "[0.56433308 0.44889316 0.69531588 0.98315553 0.94233122 0.85064799\n",
      " 0.94879414 0.87794259 0.95117152 0.94751218 0.98223661 0.94172108\n",
      " 0.99144344 0.92170257 0.96569107 0.96365556 0.96325385 0.94480972\n",
      " 0.97012089 0.96320909 0.95523838 0.97396641 0.96058435 0.97671369\n",
      " 0.9731696  0.99404064 0.96694699 0.98857592 0.98540212 0.96424822\n",
      " 0.97168094 0.96713192 0.95696502 0.95831649 0.99252316 0.99172818\n",
      " 0.99207097 0.97792605 0.94298341 0.98829583 0.97806643 0.98703474\n",
      " 0.96411285 0.95252151 0.96146757 0.98916077 0.99411588 0.98981906\n",
      " 0.97856995 0.97238398 0.98000725 0.95401515 0.99565915 0.94753394\n",
      " 0.99794698 0.97140094 0.99069322 0.9826844  0.98356411 0.97643658\n",
      " 0.99532137 0.97228973 0.9492495  0.96664627 0.94614031 0.97810627\n",
      " 0.96931634 0.9762341  0.98326599 0.97869075 0.97133968 0.98091349\n",
      " 0.94786515 0.96276267 0.98571788 0.94805287 0.97535624 0.95236978\n",
      " 0.99810322 0.93847632 0.97826729 0.9520868  0.94194819 0.96375032\n",
      " 0.97136092 0.98737911 0.95230829 0.98247984 0.92421608 0.98688463\n",
      " 0.91350429 0.95142181 0.974922   0.95443997 0.93088861 0.91834776\n",
      " 0.95694396 0.88246298 0.87028246 0.9525637  0.00385159 0.74201703\n",
      " 0.67095283 0.81142347 0.88759763 0.91356775 0.68900427 0.97863445\n",
      " 0.84533428 0.5499706  0.93963578 0.9322296  0.88426954 0.92315761\n",
      " 0.96911357 0.98440644 0.92153913 0.9716921  0.94506157 0.96832376\n",
      " 0.97024937 0.90591195 0.97137163 0.92511567 0.92481608 0.96501081\n",
      " 0.96886743 0.94503216 0.98820207 0.93472232 0.92806969 0.97052475\n",
      " 0.96005537 0.9560767  0.98608427 0.97108444 0.9291355  0.94565213\n",
      " 0.97475353 0.96222696 0.97250883 0.95508818 0.95609634 0.95465113\n",
      " 0.95256957 0.9372429  0.94528302 0.96829356 0.95183209]\n"
     ]
    }
   ],
   "source": [
    "print(S_a.shape)\n",
    "S_ratios = np.empty(149)\n",
    "for i in range(0,149):\n",
    "    S_ratios[i] = S_a[i+1]/S_a[i]\n",
    "\n",
    "print(S_ratios)"
   ]
  }
 ],
 "metadata": {
  "kernelspec": {
   "display_name": "Python 3 (ipykernel)",
   "language": "python",
   "name": "python3"
  },
  "language_info": {
   "codemirror_mode": {
    "name": "ipython",
    "version": 3
   },
   "file_extension": ".py",
   "mimetype": "text/x-python",
   "name": "python",
   "nbconvert_exporter": "python",
   "pygments_lexer": "ipython3",
   "version": "3.10.12"
  }
 },
 "nbformat": 4,
 "nbformat_minor": 5
}
