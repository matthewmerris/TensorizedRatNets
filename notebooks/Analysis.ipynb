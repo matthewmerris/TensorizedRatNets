{
 "cells": [
  {
   "cell_type": "markdown",
   "id": "42300e1f-3f3e-4d1e-b38b-86db2cdc5418",
   "metadata": {},
   "source": [
    "# Analyzing Loewnerized activations (split by target)\n",
    "## starting with lenet 300-100"
   ]
  },
  {
   "cell_type": "code",
   "execution_count": 1,
   "id": "49bb38d9-c61d-4de0-a03d-80a6ebcf1a51",
   "metadata": {},
   "outputs": [],
   "source": [
    "import numpy as np\n",
    "import tensorly as tn\n"
   ]
  },
  {
   "cell_type": "code",
   "execution_count": 7,
   "id": "0f0c52d7-c35c-41e9-a5f6-2d6d9d3c5b13",
   "metadata": {},
   "outputs": [],
   "source": [
    "# load 300 node and 100 node layer activations\n",
    "layer_300_path = '/Users/matthewmerris/dev/research/TensorizedRatNets/data/Lenet300100/activations/test/99/loewnerized_acts/300_node_act_tens.npz'\n",
    "layer_300 = np.load(layer_300_path)\n",
    "\n",
    "layer_100_path = '/Users/matthewmerris/dev/research/TensorizedRatNets/data/Lenet300100/activations/test/99/loewnerized_acts/100_node_act_tens.npz'\n",
    "layer_100 = np.load(layer_100_path)"
   ]
  },
  {
   "cell_type": "markdown",
   "id": "b9cfb86a-7715-48d7-b22d-fa08a640d045",
   "metadata": {},
   "source": [
    "## start with 300 node layer"
   ]
  },
  {
   "cell_type": "code",
   "execution_count": 20,
   "id": "bf27fe91-2b13-4c62-8567-e071e87d3487",
   "metadata": {},
   "outputs": [
    {
     "name": "stdout",
     "output_type": "stream",
     "text": [
      "(150, 150, 979)\n",
      "(150, 150, 980)\n"
     ]
    }
   ],
   "source": [
    "lwn_0s = layer_300.f.arr_0\n",
    "lwn_1s = layer_300.f.arr_1\n",
    "print(lwn_0s.shape)\n",
    "print(lwn_1s.shape)\n",
    "lwn_0s_1st_mode = tn.unfold(lwn_0s,0)\n",
    "lwn_0s_2nd_mode = tn.unfold(lwn_0s,1)\n",
    "lwn_0s_3rd_mode = tn.unfold(lwn_0s,2)\n",
    "lwn_1s_1st_mode = tn.unfold(lwn_1s,0)\n",
    "lwn_1s_2nd_mode = tn.unfold(lwn_1s,1)\n",
    "lwn_1s_3rd_mode = tn.unfold(lwn_1s,2)\n"
   ]
  }
 ],
 "metadata": {
  "kernelspec": {
   "display_name": "Python 3 (ipykernel)",
   "language": "python",
   "name": "python3"
  },
  "language_info": {
   "codemirror_mode": {
    "name": "ipython",
    "version": 3
   },
   "file_extension": ".py",
   "mimetype": "text/x-python",
   "name": "python",
   "nbconvert_exporter": "python",
   "pygments_lexer": "ipython3",
   "version": "3.9.12"
  }
 },
 "nbformat": 4,
 "nbformat_minor": 5
}
