{
 "cells": [
  {
   "cell_type": "markdown",
   "id": "42300e1f-3f3e-4d1e-b38b-86db2cdc5418",
   "metadata": {},
   "source": [
    "# Analyzing Loewnerized activations (split by target)\n",
    "## starting with lenet 300-100"
   ]
  },
  {
   "cell_type": "code",
   "execution_count": 1,
   "id": "49bb38d9-c61d-4de0-a03d-80a6ebcf1a51",
   "metadata": {},
   "outputs": [],
   "source": [
    "import numpy as np\n",
    "import tensorly as tn\n",
    "import math\n",
    "import matlab.engine\n",
    "import matplotlib.pyplot as plt"
   ]
  },
  {
   "cell_type": "code",
   "execution_count": 2,
   "id": "0f0c52d7-c35c-41e9-a5f6-2d6d9d3c5b13",
   "metadata": {},
   "outputs": [],
   "source": [
    "# load 300 node and 100 node layer activations\n",
    "layer_300_path = '/home/matthewmerris/repos/TensorizedRatNets/data/Lenet300100/activations/test/99/ten_acts/300_node_act_tens.npz'\n",
    "# layer_300_path = '/Users/matthewmerris/dev/research/TensorizedRatNets/data/Lenet300100/activations/test/99/loewnerized_acts/300_node_act_tens.npz'\n",
    "layer_300 = np.load(layer_300_path)\n",
    "\n",
    "layer_100_path = '/home/matthewmerris/repos/TensorizedRatNets/data/Lenet300100/activations/test/99/ten_acts/100_node_act_tens.npz'\n",
    "# layer_100_path = '/Users/matthewmerris/dev/research/TensorizedRatNets/data/Lenet300100/activations/test/99/loewnerized_acts/100_node_act_tens.npz'\n",
    "layer_100 = np.load(layer_100_path)"
   ]
  },
  {
   "cell_type": "markdown",
   "id": "b9cfb86a-7715-48d7-b22d-fa08a640d045",
   "metadata": {},
   "source": [
    "## start with 300 node layer"
   ]
  },
  {
   "cell_type": "code",
   "execution_count": 3,
   "id": "bf27fe91-2b13-4c62-8567-e071e87d3487",
   "metadata": {},
   "outputs": [
    {
     "name": "stdout",
     "output_type": "stream",
     "text": [
      "(150, 150, 979)\n",
      "(150, 150, 980)\n"
     ]
    }
   ],
   "source": [
    "lwn_0s = layer_300.f.arr_0\n",
    "lwn_1s = layer_300.f.arr_1\n",
    "print(lwn_0s.shape)\n",
    "print(lwn_1s.shape)\n",
    "lwn_0s_1st_mode = tn.unfold(lwn_0s,0)\n",
    "lwn_0s_2nd_mode = tn.unfold(lwn_0s,1)\n",
    "lwn_0s_3rd_mode = tn.unfold(lwn_0s,2)\n",
    "lwn_1s_1st_mode = tn.unfold(lwn_1s,0)\n",
    "lwn_1s_2nd_mode = tn.unfold(lwn_1s,1)\n",
    "lwn_1s_3rd_mode = tn.unfold(lwn_1s,2)\n"
   ]
  },
  {
   "cell_type": "code",
   "execution_count": 15,
   "id": "e8051e0a-9a31-4e4f-b883-82858c88a6d9",
   "metadata": {},
   "outputs": [
    {
     "name": "stdout",
     "output_type": "stream",
     "text": [
      "(150, 150, 50)\n",
      "(150, 150, 50)\n"
     ]
    }
   ],
   "source": [
    "lwn_0s_a = lwn_0s[:,:,0:50]\n",
    "print(lwn_0s_a.shape)\n",
    "lwn_0s_b = lwn_0s[:,:,51:101]\n",
    "print(lwn_0s_a.shape)"
   ]
  },
  {
   "cell_type": "code",
   "execution_count": 16,
   "id": "6904a132-3659-4800-aa86-d96776a69ad5",
   "metadata": {},
   "outputs": [],
   "source": [
    "# craft modal unfoldings\n",
    "lwn_0s_a_1st_mode = np.transpose(tn.unfold(lwn_0s_a,0))\n",
    "lwn_0s_a_2nd_mode = np.transpose(tn.unfold(lwn_0s_a,1))\n",
    "lwn_0s_a_3rd_mode = np.transpose(tn.unfold(lwn_0s_a,2))\n",
    "\n",
    "lwn_0s_b_1st_mode = np.transpose(tn.unfold(lwn_0s_b,0))\n",
    "lwn_0s_b_2nd_mode = np.transpose(tn.unfold(lwn_0s_b,1))\n",
    "lwn_0s_b_3rd_mode = np.transpose(tn.unfold(lwn_0s_b,2))\n",
    "\n"
   ]
  },
  {
   "cell_type": "code",
   "execution_count": 17,
   "id": "63597761-67ab-4e33-a4f3-3571c54d9ced",
   "metadata": {},
   "outputs": [],
   "source": [
    "U_a, S_a, Vh_a = np.linalg.svd(lwn_0s_a_1st_mode)\n",
    "U_b, S_b, Vh_b = np.linalg.svd(lwn_0s_b_1st_mode)"
   ]
  },
  {
   "cell_type": "code",
   "execution_count": 21,
   "id": "cefedd85-7659-44e8-afbb-c9cace94cd5c",
   "metadata": {},
   "outputs": [
    {
     "name": "stdout",
     "output_type": "stream",
     "text": [
      "(150,)\n",
      "[0.56433308 0.44889316 0.69531588 0.98315553 0.94233122 0.85064799\n",
      " 0.94879414 0.87794259 0.95117152 0.94751218 0.98223661 0.94172108\n",
      " 0.99144344 0.92170257 0.96569107 0.96365556 0.96325385 0.94480972\n",
      " 0.97012089 0.96320909 0.95523838 0.97396641 0.96058435 0.97671369\n",
      " 0.9731696  0.99404064 0.96694699 0.98857592 0.98540212 0.96424822\n",
      " 0.97168094 0.96713192 0.95696502 0.95831649 0.99252316 0.99172818\n",
      " 0.99207097 0.97792605 0.94298341 0.98829583 0.97806643 0.98703474\n",
      " 0.96411285 0.95252151 0.96146757 0.98916077 0.99411588 0.98981906\n",
      " 0.97856995 0.97238398 0.98000725 0.95401515 0.99565915 0.94753394\n",
      " 0.99794698 0.97140094 0.99069322 0.9826844  0.98356411 0.97643658\n",
      " 0.99532137 0.97228973 0.9492495  0.96664627 0.94614031 0.97810627\n",
      " 0.96931634 0.9762341  0.98326599 0.97869075 0.97133968 0.98091349\n",
      " 0.94786515 0.96276267 0.98571788 0.94805287 0.97535624 0.95236978\n",
      " 0.99810322 0.93847632 0.97826729 0.9520868  0.94194819 0.96375032\n",
      " 0.97136092 0.98737911 0.95230829 0.98247984 0.92421608 0.98688463\n",
      " 0.91350429 0.95142181 0.974922   0.95443997 0.93088861 0.91834776\n",
      " 0.95694396 0.88246298 0.87028246 0.9525637  0.00385159 0.74201703\n",
      " 0.67095283 0.81142347 0.88759763 0.91356775 0.68900427 0.97863445\n",
      " 0.84533428 0.5499706  0.93963578 0.9322296  0.88426954 0.92315761\n",
      " 0.96911357 0.98440644 0.92153913 0.9716921  0.94506157 0.96832376\n",
      " 0.97024937 0.90591195 0.97137163 0.92511567 0.92481608 0.96501081\n",
      " 0.96886743 0.94503216 0.98820207 0.93472232 0.92806969 0.97052475\n",
      " 0.96005537 0.9560767  0.98608427 0.97108444 0.9291355  0.94565213\n",
      " 0.97475353 0.96222696 0.97250883 0.95508818 0.95609634 0.95465113\n",
      " 0.95256957 0.9372429  0.94528302 0.96829356 0.95183209]\n"
     ]
    }
   ],
   "source": [
    "print(S_a.shape)\n",
    "S_ratios = np.empty(149)\n",
    "for i in range(0,149):\n",
    "    S_ratios[i] = S_a[i+1]/S_a[i]\n",
    "\n",
    "print(S_ratios)"
   ]
  },
  {
   "cell_type": "markdown",
   "id": "be172b32-d75c-44b7-ac6e-81a5eacb0268",
   "metadata": {},
   "source": [
    "### Compare column spaces ala Domanov and De Lathauwer"
   ]
  },
  {
   "cell_type": "code",
   "execution_count": 2,
   "id": "7b386047-93f7-4ee7-95fe-a256eb238b6a",
   "metadata": {},
   "outputs": [],
   "source": [
    "# load activations and separate by target\n",
    "targets_path = '../data/Lenet300100/activations/test/targets.npy'\n",
    "targets = np.load(targets_path)\n",
    "\n",
    "inputs_path = '../data/Lenet300100/activations/test/99/Linear_0.npy'\n",
    "inputs_raw = np.load(inputs_path)\n",
    "\n",
    "outputs_path = '../data/Lenet300100/activations/test/99/Rational_1.npy'\n",
    "outputs_raw = np.load(outputs_path)\n",
    "\n",
    "tensorlab_path = '~/ware/matlab_tools/tensorlab'\n",
    "\n",
    "# reshape inputs and outputs to matrices\n",
    "inputs = inputs_raw.reshape(-1, inputs_raw.shape[-1])\n",
    "outputs = outputs_raw.reshape(-1, outputs_raw.shape[-1])\n",
    " \n",
    "# instantiate empty containers for splitting activations according to target\n",
    "i_targets = list()\n",
    "o_targets = list()\n",
    "for i in range(0,10):\n",
    "    i_targets.append(np.empty((0,inputs.shape[1])))\n",
    "    o_targets.append(np.empty((0,outputs.shape[1])))\n",
    "\n",
    "# split activations according to targets\n",
    "for idx, x in enumerate(targets):\n",
    "    o_targets[x] = np.vstack([o_targets[x], outputs[idx, :]])\n",
    "    i_targets[x] = np.vstack([i_targets[x], inputs[idx, :]])"
   ]
  },
  {
   "cell_type": "code",
   "execution_count": 3,
   "id": "21c1a3d6-440d-4ef2-8742-d151cc2d43b9",
   "metadata": {},
   "outputs": [
    {
     "name": "stdout",
     "output_type": "stream",
     "text": [
      "(979, 300)\n",
      "float64\n",
      "(979, 300)\n",
      "float64\n",
      "(100, 100, 100)\n"
     ]
    }
   ],
   "source": [
    "# lets try for the \"0\" target\n",
    "out_300_0s = o_targets[0]\n",
    "in_300_0s = i_targets[0]\n",
    "print(out_300_0s.shape)\n",
    "print(out_300_0s.dtype)\n",
    "print(in_300_0s.shape)\n",
    "print(in_300_0s.dtype)\n",
    "\n",
    "lwn_0s = list()\n",
    "sz_dims = math.ceil(out_300_0s.shape[1]/3)\n",
    "\n",
    "eng = matlab.engine.start_matlab()\n",
    "s = eng.genpath(tensorlab_path)\n",
    "eng.addpath(s, nargout=0)\n",
    "\n",
    "for i in range(out_300_0s.shape[0]):\n",
    "    tmp = np.asarray(eng.loewnerize(out_300_0s[i,:], 'T', in_300_0s[i,:], nargout=1))  # NOTE: hardcoded loewnerize to 'Order' 3 !!!\n",
    "    lwn_0s.append(tmp)\n",
    "\n",
    "print(lwn_0s[0].shape)\n"
   ]
  },
  {
   "cell_type": "code",
   "execution_count": 4,
   "id": "7aecb91f-0ab3-4e95-9944-8dbe276568b9",
   "metadata": {},
   "outputs": [
    {
     "name": "stdout",
     "output_type": "stream",
     "text": [
      "979\n"
     ]
    }
   ],
   "source": [
    "print(len(lwn_0s))\n",
    "rank_0s = list()\n",
    "Us_0s = list()\n",
    "num_samps = 20\n",
    "for i in range (num_samps):\n",
    "    U, S, Vh = np.linalg.svd(np.transpose(tn.unfold(lwn_0s[i],0)))\n",
    "    Us_0s.append(U)\n",
    "    rank = 0\n",
    "    for j in range(S.shape[0] - 1):\n",
    "        if S[j] - S[j+1] < .01 and rank == 0:\n",
    "            rank = j\n",
    "            rank_0s.append(rank)\n",
    "\n",
    "rank_0s = np.asarray(rank_0s)      \n",
    "        "
   ]
  },
  {
   "cell_type": "code",
   "execution_count": 8,
   "id": "3b3a4bb3-201e-4a43-9b21-bbb7ecf36ef5",
   "metadata": {},
   "outputs": [
    {
     "name": "stdout",
     "output_type": "stream",
     "text": [
      "[5 6 4 3 4 4 3 7 6 3 7 5 2 7 2 5 3 4 6 6]\n",
      "10000\n"
     ]
    }
   ],
   "source": [
    "print(rank_0s)\n",
    "print(Us_0s[0].shape[0])"
   ]
  },
  {
   "cell_type": "code",
   "execution_count": 13,
   "id": "1690407f-5f84-4469-ad20-6b9bb63bb1be",
   "metadata": {},
   "outputs": [
    {
     "name": "stdout",
     "output_type": "stream",
     "text": [
      "[[0. 0. 0. 0. 0. 0. 0. 0. 0. 0. 0. 0. 0. 0. 0. 0. 0. 0. 0. 0.]\n",
      " [0. 0. 0. 0. 0. 0. 0. 0. 0. 0. 0. 0. 0. 0. 0. 0. 0. 0. 0. 0.]\n",
      " [0. 0. 0. 0. 0. 0. 0. 0. 0. 0. 0. 0. 0. 0. 0. 0. 0. 0. 0. 0.]\n",
      " [0. 0. 0. 0. 0. 0. 0. 0. 0. 0. 0. 0. 0. 0. 0. 0. 0. 0. 0. 0.]\n",
      " [0. 0. 0. 0. 0. 0. 0. 0. 0. 0. 0. 0. 0. 0. 0. 0. 0. 0. 0. 0.]\n",
      " [0. 0. 0. 0. 0. 0. 0. 0. 0. 0. 0. 0. 0. 0. 0. 0. 0. 0. 0. 0.]\n",
      " [0. 0. 0. 0. 0. 0. 0. 0. 0. 0. 0. 0. 0. 0. 0. 0. 0. 0. 0. 0.]\n",
      " [0. 0. 0. 0. 0. 0. 0. 0. 0. 0. 0. 0. 0. 0. 0. 0. 0. 0. 0. 0.]\n",
      " [0. 0. 0. 0. 0. 0. 0. 0. 0. 0. 0. 0. 0. 0. 0. 0. 0. 0. 0. 0.]\n",
      " [0. 0. 0. 0. 0. 0. 0. 0. 0. 0. 0. 0. 0. 0. 0. 0. 0. 0. 0. 0.]\n",
      " [0. 0. 0. 0. 0. 0. 0. 0. 0. 0. 0. 0. 0. 0. 0. 0. 0. 0. 0. 0.]\n",
      " [0. 0. 0. 0. 0. 0. 0. 0. 0. 0. 0. 0. 0. 0. 0. 0. 0. 0. 0. 0.]\n",
      " [0. 0. 0. 0. 0. 0. 0. 0. 0. 0. 0. 0. 0. 0. 0. 0. 0. 0. 0. 0.]\n",
      " [0. 0. 0. 0. 0. 0. 0. 0. 0. 0. 0. 0. 0. 0. 0. 0. 0. 0. 0. 0.]\n",
      " [0. 0. 0. 0. 0. 0. 0. 0. 0. 0. 0. 0. 0. 0. 0. 0. 0. 0. 0. 0.]\n",
      " [0. 0. 0. 0. 0. 0. 0. 0. 0. 0. 0. 0. 0. 0. 0. 0. 0. 0. 0. 0.]\n",
      " [0. 0. 0. 0. 0. 0. 0. 0. 0. 0. 0. 0. 0. 0. 0. 0. 0. 0. 0. 0.]\n",
      " [0. 0. 0. 0. 0. 0. 0. 0. 0. 0. 0. 0. 0. 0. 0. 0. 0. 0. 0. 0.]\n",
      " [0. 0. 0. 0. 0. 0. 0. 0. 0. 0. 0. 0. 0. 0. 0. 0. 0. 0. 0. 0.]\n",
      " [0. 0. 0. 0. 0. 0. 0. 0. 0. 0. 0. 0. 0. 0. 0. 0. 0. 0. 0. 0.]]\n"
     ]
    }
   ],
   "source": [
    "num_samps = 20\n",
    "mix = np.zeros((num_samps,num_samps))\n",
    "\n",
    "for i in range(num_samps):\n",
    "    for j in range(num_samps):\n",
    "        if i != j:\n",
    "            # construct combined U matrix (rank_0s[i] columns from Us_0s[i] + rank_0s[j] columns from Us_0s[j]\n",
    "            U_ij = np.concatenate([Us_0s[i][:, 0:rank_0s[i]], Us_0s[j][:,0:rank_0s[j]]], axis=1)\n",
    "            U, S, Vh = np.linalg.svd(U_ij)\n",
    "            if S[(rank_0s[j] + 1)] < 0.1:\n",
    "                mix[i,j] = 1\n",
    "\n",
    "print(mix)\n"
   ]
  },
  {
   "cell_type": "code",
   "execution_count": 43,
   "id": "bbe03b5a-b3c2-4cc8-b696-39ec65e68a28",
   "metadata": {},
   "outputs": [],
   "source": [
    "# apply method to the 1st 2 observed signals\n",
    "U_0, S_0, Vh_0 = np.linalg.svd(np.transpose(tn.unfold(lwn_0s[0], 0)))\n",
    "U_1, S_1, Vh_1 = np.linalg.svd(np.transpose(tn.unfold(lwn_0s[1], 0)))"
   ]
  },
  {
   "cell_type": "code",
   "execution_count": 68,
   "id": "7b35f4de-00c8-40b9-a906-1a7a4decb9d8",
   "metadata": {},
   "outputs": [
    {
     "name": "stdout",
     "output_type": "stream",
     "text": [
      "[1.70458947e+00 1.55531850e+03 4.96365932e+00 1.74181621e+00\n",
      " 1.25667736e+00 1.14712649e+00 1.87740453e+00 1.08683063e+00\n",
      " 1.49917156e+00 1.11066714e+00 1.21687536e+00 1.31416456e+00\n",
      " 1.05418568e+00 1.04171136e+00 1.13641176e+00 1.14137398e+00\n",
      " 1.05724146e+00 1.10517009e+00 1.21659023e+00 1.15702377e+00\n",
      " 1.03483622e+00 1.01375032e+00 1.08053137e+00 1.05138224e+00\n",
      " 1.07293154e+00 1.02844092e+00 1.01196157e+00 1.00926801e+00\n",
      " 1.06732218e+00 1.00992104e+00 1.00878118e+00 1.01373932e+00\n",
      " 1.02310991e+00 1.02088527e+00 1.07104045e+00 1.02461979e+00\n",
      " 1.27912991e+00 1.01778101e+00 1.00549872e+00 1.07023494e+00\n",
      " 1.05880891e+00 1.03995828e+00 1.15179130e+00 1.01606760e+00\n",
      " 1.01457861e+00 1.08598002e+00 1.11114785e+00 1.07332252e+00\n",
      " 1.02343790e+00 1.02150591e+00 1.06252083e+00 1.03434079e+00\n",
      " 1.04444951e+00 1.02169768e+00 1.05160142e+00 1.06139560e+00\n",
      " 1.12955413e+00 1.04491183e+00 1.09710765e+00 1.05632700e+00\n",
      " 1.09561718e+00 1.01927349e+00 1.08205278e+00 1.02204915e+00\n",
      " 1.01498242e+00 1.07879403e+00 1.04445327e+00 1.12207049e+00\n",
      " 1.32914722e+00 1.07024113e+00 1.10574393e+00 1.08028431e+00\n",
      " 1.02163180e+00 1.00240619e+00 1.03475113e+00 1.06372857e+00\n",
      " 1.06327099e+00 1.11827384e+00 1.03787016e+00 1.08821477e+00\n",
      " 1.09308176e+00 1.06753180e+00 1.09679763e+00 1.03467151e+00\n",
      " 1.24919004e+00 1.39815776e+00 1.08780974e+00 1.23869071e+00\n",
      " 1.02784969e+00 1.09104947e+00 1.18926735e+00 1.12610938e+00\n",
      " 1.03901337e+00 1.37620985e+00 1.50157982e+00 1.26387670e+00\n",
      " 1.34939733e+00 1.76155779e+00 1.57709613e+00]\n"
     ]
    }
   ],
   "source": [
    "S_0_ratios = np.empty(S_0.shape[0] - 1)\n",
    "S_1_ratios = np.empty(S_1.shape[0] - 1)\n",
    "S_0_diffs = np.empty(S_0.shape[0] - 1)\n",
    "S_1_diffs = np.empty(S_1.shape[0] - 1)\n",
    "for i in range (S_0.shape[0]-1):\n",
    "    S_0_ratios[i] = S_0[i] / S_0[i+1]\n",
    "    S_0_diffs[i] = S_0[i] - S_0[i+1]\n",
    "    S_1_ratios[i] = S_1[i] / S_1[i+1]\n",
    "    S_1_diffs[i] = S_1[i] - S_1[i+1]\n",
    "print(S_0_ratios)"
   ]
  },
  {
   "cell_type": "code",
   "execution_count": 73,
   "id": "4971c8ee-62b5-4d44-a6eb-983edc6b3797",
   "metadata": {},
   "outputs": [
    {
     "name": "stdout",
     "output_type": "stream",
     "text": [
      "[5.74599100e+02 8.14984732e+02 4.18700819e-01 4.49884969e-02\n",
      " 1.23870796e-02 6.18957637e-03 1.96612931e-02 1.79028954e-03\n",
      " 6.86513104e-03 1.37035710e-03 2.20688244e-03 2.43263200e-03\n",
      " 3.98003259e-04 2.94109535e-04 8.46390557e-04 7.68529446e-04\n",
      " 2.94325282e-04 4.89305367e-04 8.28289701e-04 5.18998995e-04\n",
      " 1.11265506e-04 4.33222800e-05 2.34815204e-04 1.42499541e-04\n",
      " 1.88514094e-04 7.14813601e-05 2.97079963e-05 2.28068428e-05\n",
      " 1.55217688e-04 2.26492023e-05 1.98724454e-05 3.06716805e-05\n",
      " 5.04252842e-05 4.46388763e-05 1.41766286e-04 4.79500247e-05\n",
      " 4.25007156e-04 2.66006266e-05 8.18117984e-06 9.76400751e-05\n",
      " 7.72147754e-05 5.04484817e-05 1.66385111e-04 1.73338888e-05\n",
      " 1.55015557e-05 8.41850465e-05 9.79414785e-05 6.01967097e-05\n",
      " 1.88015037e-05 1.68884872e-05 4.62083272e-05 2.45381677e-05\n",
      " 3.04096449e-05 1.45289851e-05 3.28573458e-05 3.68324642e-05\n",
      " 6.88078157e-05 2.28279852e-05 4.49894916e-05 2.47044894e-05\n",
      " 3.82768612e-05 7.56954887e-06 2.97820447e-05 7.83035111e-06\n",
      " 5.24219143e-06 2.55555778e-05 1.38040695e-05 3.37826674e-05\n",
      " 6.85330967e-05 1.36653269e-05 1.86049889e-05 1.30757489e-05\n",
      " 3.44853047e-06 3.82672945e-07 5.34110040e-06 9.20799708e-06\n",
      " 8.59788575e-06 1.43723438e-05 4.43397296e-06 9.49123073e-06\n",
      " 9.16206101e-06 6.22667331e-06 8.13740601e-06 2.81703024e-06\n",
      " 1.62076834e-05 1.85220596e-05 3.75512002e-06 8.24050433e-06\n",
      " 9.35424956e-07 2.80299058e-06 4.89937206e-06 2.89888870e-06\n",
      " 8.63130499e-07 6.04795454e-06 5.36994679e-06 2.23525085e-06\n",
      " 2.19333493e-06 2.71388437e-06 1.30400264e-06]\n"
     ]
    },
    {
     "data": {
      "image/png": "[encoded data removed]",
      "text/plain": [
       "<Figure size 640x480 with 1 Axes>"
      ]
     },
     "metadata": {},
     "output_type": "display_data"
    }
   ],
   "source": [
    "plt.plot(S_0_diffs)\n",
    "print(S_0_diffs)\n"
   ]
  },
  {
   "cell_type": "code",
   "execution_count": 72,
   "id": "5b7e583b-cbf2-4ca5-9df1-715cc83f61d1",
   "metadata": {},
   "outputs": [
    {
     "name": "stdout",
     "output_type": "stream",
     "text": [
      "[8.36768483e+02 8.15878291e+02 4.31870454e+00 1.03213564e-01\n",
      " 4.51325045e-02 5.02954307e-02 3.34284222e-03 1.93656414e-03\n",
      " 1.41102810e-03 4.91327031e-03 2.48161832e-03 9.69428120e-03\n",
      " 1.43684544e-04 4.14564285e-04 4.93954900e-04 1.86912833e-03\n",
      " 3.99167617e-03 7.35423772e-04 1.66838175e-03 3.36596467e-04\n",
      " 1.80111715e-04 6.08276479e-04 1.06123340e-03 2.69027468e-04\n",
      " 5.08140623e-04 5.85790603e-05 4.97464680e-05 4.11586418e-04\n",
      " 3.65788373e-04 4.64572181e-04 4.50392093e-04 9.32195187e-05\n",
      " 7.91543769e-04 2.62847325e-04 2.46779710e-05 9.15308137e-04\n",
      " 2.15418131e-04 3.54067155e-04 3.29348421e-04 2.45518586e-05\n",
      " 8.83259050e-05 3.75994753e-05 1.52374813e-04 3.49477000e-04\n",
      " 9.78998304e-05 1.06073812e-04 3.11471289e-05 7.80262854e-05\n",
      " 1.09488189e-04 6.81063563e-05 2.62103677e-05 2.98481803e-05\n",
      " 5.99599559e-06 1.40941686e-05 4.04434953e-05 1.11502226e-05\n",
      " 2.51197501e-05 5.53142607e-05 1.38050745e-05 7.55687983e-05\n",
      " 1.44564867e-05 3.06778885e-05 7.79358162e-05 5.77917127e-05\n",
      " 2.06039099e-05 2.30597995e-05 2.86371486e-05 5.25881376e-05\n",
      " 7.72052135e-05 3.63468042e-05 1.42303369e-05 1.32856614e-05\n",
      " 2.74545619e-05 6.59777818e-06 2.06222767e-05 8.82470243e-06\n",
      " 2.12545648e-05 2.65197804e-05 2.19299525e-05 8.27567410e-06\n",
      " 1.00331094e-05 6.89901766e-05 1.57201406e-05 5.00115257e-06\n",
      " 1.99238865e-05 4.97844934e-06 1.45859325e-05 1.57585958e-05\n",
      " 7.82589005e-06 1.54600213e-06 9.26328726e-06 1.83465820e-05\n",
      " 5.02416128e-06 2.14093112e-06 4.08721410e-06 1.09538698e-05\n",
      " 5.29045652e-06 1.59346317e-06 1.26371065e-06]\n"
     ]
    },
    {
     "data": {
      "image/png": "[encoded data removed]",
      "text/plain": [
       "<Figure size 640x480 with 1 Axes>"
      ]
     },
     "metadata": {},
     "output_type": "display_data"
    }
   ],
   "source": [
    "plt.plot(S_1_diffs)\n",
    "print(S_1_diffs)"
   ]
  }
 ],
 "metadata": {
  "kernelspec": {
   "display_name": "Python 3 (ipykernel)",
   "language": "python",
   "name": "python3"
  },
  "language_info": {
   "codemirror_mode": {
    "name": "ipython",
    "version": 3
   },
   "file_extension": ".py",
   "mimetype": "text/x-python",
   "name": "python",
   "nbconvert_exporter": "python",
   "pygments_lexer": "ipython3",
   "version": "3.10.12"
  }
 },
 "nbformat": 4,
 "nbformat_minor": 5
}
