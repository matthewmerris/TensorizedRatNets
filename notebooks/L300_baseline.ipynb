{
 "cells": [
  {
   "cell_type": "code",
   "execution_count": 2,
   "id": "ff8b5903-2ce3-4aea-beb6-6f584a04e385",
   "metadata": {},
   "outputs": [],
   "source": [
    "import sys\n",
    "sys.path.append('../src/')\n",
    "import os\n",
    "import copy\n",
    "\n",
    "import numpy as np\n",
    "import sklearn\n",
    "from sklearn import metrics\n",
    "import tensorly as tn\n",
    "import math\n",
    "import matlab.engine\n",
    "import matplotlib.pyplot as plt\n",
    "import time\n",
    "\n",
    "\n",
    "import ll1_tools"
   ]
  },
  {
   "cell_type": "markdown",
   "id": "d05fdb0a-72e7-4b5e-acdc-f6fde0914cf0",
   "metadata": {},
   "source": [
    "## Load data and loewnerize\n"
   ]
  },
  {
   "cell_type": "code",
   "execution_count": 3,
   "id": "357e444a-ee2d-42e5-b061-faf713e338ec",
   "metadata": {},
   "outputs": [
    {
     "name": "stdout",
     "output_type": "stream",
     "text": [
      "Targets shape: (9984,)\n",
      "Inputs shape: (39, 256, 300)\n",
      "Outputs shape: (39, 256, 300)\n"
     ]
    }
   ],
   "source": [
    "targets_path = '../data/Lenet300/activations/test/targets.npy'\n",
    "targets = np.load(targets_path)\n",
    "print(f\"Targets shape: {targets.shape}\")\n",
    "\n",
    "inputs_path = '../data/Lenet300/activations/test/99/layers.layer_0.linear.npy'\n",
    "inputs_raw = np.load(inputs_path)\n",
    "print(f\"Inputs shape: {inputs_raw.shape}\")\n",
    "\n",
    "outputs_path = '../data/Lenet300/activations/test/99/layers.layer_0.rat.npy'\n",
    "outputs_raw = np.load(outputs_path)\n",
    "print(f\"Outputs shape: {outputs_raw.shape}\")\n",
    "\n",
    "# tensorlab_path = '~/ware/matlab_tools/tensorlab'\n",
    "tensorlab_path = '~/tools/matlab_tools/Tensorlab'\n",
    "\n",
    "num_sets = 10\n",
    "\n",
    "lwn_tns, obs, obs_trgts = ll1_tools.split_data(inputs_raw, outputs_raw, targets, tensorlab_path, num_sets)"
   ]
  },
  {
   "cell_type": "markdown",
   "id": "ae20eb6a-0bb3-46d6-a764-526023ea9047",
   "metadata": {},
   "source": [
    "## perform decompositions for all lwn_tns"
   ]
  },
  {
   "cell_type": "code",
   "execution_count": null,
   "id": "e6a4d4b0-1463-4b84-9a04-a0d8dd878193",
   "metadata": {},
   "outputs": [],
   "source": [
    "eng = matlab.engine.start_matlab()\n",
    "s = eng.genpath(tensorlab_path)\n",
    "eng.addpath(s, nargout=0)\n",
    "\n",
    "num_terms = 25\n",
    "rat_deg = 3\n",
    "\n",
    "L = rat_deg * np.ones(num_terms)\n",
    "mdls = list()\n",
    "outs = list()\n",
    "\n",
    "tic = time.perf_counter()\n",
    "for tns in lwn_tns:\n",
    "    U, out = eng.ll1(tns, L, nargout=2)\n",
    "    mdls.append(U)\n",
    "    outs.append(out)\n",
    "toc = time.perf_counter()\n",
    "print(toc-tic)"
   ]
  },
  {
   "cell_type": "markdown",
   "id": "8974253b-3248-4890-881d-3d2192fedd1c",
   "metadata": {},
   "source": [
    "## check model fits"
   ]
  },
  {
   "cell_type": "code",
   "execution_count": null,
   "id": "8bddc096-3502-44e7-9240-7b7031933a09",
   "metadata": {},
   "outputs": [],
   "source": [
    "fits = []\n",
    "for idx, mdl in enumerate(mdls):\n",
    "    tmp_fit = 1 - eng.frobll1res(lwn_tns[idx], mdl) / eng.frob(lwn_tns[idx])\n",
    "    fits.append(tmp_fit)\n",
    "print(fits)"
   ]
  },
  {
   "cell_type": "markdown",
   "id": "4afdf178-c767-4f30-9970-8e200bd82f17",
   "metadata": {},
   "source": [
    "## Recover 'Sources' & 'Mixing' matrices for each set"
   ]
  },
  {
   "cell_type": "code",
   "execution_count": null,
   "id": "7bc02043-d06f-4fd4-8369-2777a3689a49",
   "metadata": {},
   "outputs": [],
   "source": [
    "print(f\"Number of models: {len(mdls)}\")\n",
    "sources = list()\n",
    "mixes = list()\n",
    "for idx, model in enumerate(mdls):\n",
    "    tmp = ll1_tools.pack_ll1(model)\n",
    "    mix = tmp[2]\n",
    "    mixes.append(mix)\n",
    "    src = ll1_tools.recover_sources(obs[idx], mix)\n",
    "    sources.append(src)\n",
    "print(f\"Number of Source matrices: {len(sources)}\")\n",
    "print(f\"Number of Mixing matrices: {len(mixes)}\")"
   ]
  },
  {
   "cell_type": "markdown",
   "id": "b5a3d7f1-f061-48a7-aa14-243206fedbd6",
   "metadata": {},
   "source": [
    "## Perform SVDs on transposed 'Sources' matrices as well as maximum angle between subspaces\n",
    "(transpose so the left singular vectors correspond to the sources signal space)"
   ]
  },
  {
   "cell_type": "code",
   "execution_count": null,
   "id": "5aadb6b7-ee23-406c-a2fd-b68db46e039e",
   "metadata": {},
   "outputs": [],
   "source": [
    "sources_transposed = []\n",
    "for src in sources:\n",
    "    sources_transposed.append(src.T)\n",
    "print(len(sources_transposed))\n",
    "\n",
    "svds = []\n",
    "for src in sources_transposed:\n",
    "    svds.append(np.linalg.svd(src))\n",
    "num_sets = len(sources)\n",
    "\n",
    "angles_srcs = np.zeros((num_sets,num_sets))\n",
    "angles_cols = np.zeros((num_sets,num_sets))\n",
    "norm_of_diffs = np.zeros((num_sets,num_sets))\n",
    "# cossims = np.zeros((num_sets,num_sets))\n",
    "for i in range(num_sets):\n",
    "    for j in range(num_sets):\n",
    "        if i != j:\n",
    "            angles_srcs[i,j] = eng.rad2deg(eng.subspace(sources_transposed[i], sources_transposed[j]))\n",
    "            angles_cols[i,j] = eng.rad2deg(eng.subspace(svds[i][0], svds[j][0]))\n",
    "            norm_of_diffs[i,j] = np.linalg.norm(sources_transposed[i] - sources_transposed[j])\n",
    "            # cossims[i,j] = sklearn.metrics.pairwise.cosine_similarity(sources_transposed[i], sources_transposed[j])"
   ]
  },
  {
   "cell_type": "markdown",
   "id": "cf7b1584-0784-4113-9cd6-89f6cc30cd97",
   "metadata": {},
   "source": [
    "## SVD analysis"
   ]
  },
  {
   "cell_type": "code",
   "execution_count": null,
   "id": "62446b3d-00b3-4aaf-853f-2d97b9f46a6f",
   "metadata": {},
   "outputs": [],
   "source": [
    "for i in range(len(svds)):\n",
    "    plt.plot(svds[i][1])"
   ]
  },
  {
   "cell_type": "code",
   "execution_count": null,
   "id": "282ea697-d7d3-4336-9ef8-a4aa4b5166a0",
   "metadata": {},
   "outputs": [],
   "source": [
    "for i in range(angles_cols.shape[0]):\n",
    "    plt.plot(angles_cols[i,:], label=f\"Set-{i}\")\n",
    "plt.legend()"
   ]
  },
  {
   "cell_type": "markdown",
   "id": "220a9e83-48cf-4ee1-941d-7ae267bcacf9",
   "metadata": {},
   "source": [
    "## Norm of diff analysis"
   ]
  },
  {
   "cell_type": "code",
   "execution_count": null,
   "id": "4ffcfe45-4c23-4eff-a18a-077daeef6c54",
   "metadata": {},
   "outputs": [],
   "source": [
    "for i in range(norm_of_diffs.shape[0]):\n",
    "    plt.plot(norm_of_diffs[i,:], label=f\"Set - {i}\")\n",
    "\n",
    "plt.legend()"
   ]
  }
 ],
 "metadata": {
  "kernelspec": {
   "display_name": "Python 3 (ipykernel)",
   "language": "python",
   "name": "python3"
  },
  "language_info": {
   "codemirror_mode": {
    "name": "ipython",
    "version": 3
   },
   "file_extension": ".py",
   "mimetype": "text/x-python",
   "name": "python",
   "nbconvert_exporter": "python",
   "pygments_lexer": "ipython3",
   "version": "3.10.12"
  }
 },
 "nbformat": 4,
 "nbformat_minor": 5
}
