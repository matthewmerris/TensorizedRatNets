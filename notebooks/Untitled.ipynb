{
 "cells": [
  {
   "cell_type": "markdown",
   "id": "d5d5cd5c-d267-4ec1-a495-3ee631154dcb",
   "metadata": {},
   "source": [
    "# IMPORTS"
   ]
  },
  {
   "cell_type": "code",
   "execution_count": 1,
   "id": "9bc07d22-66d8-4c3a-b4d9-826fb1e1405e",
   "metadata": {},
   "outputs": [],
   "source": [
    "import sys\n",
    "sys.path.append('../src/')\n",
    "import os\n",
    "import copy\n",
    "\n",
    "import numpy as np\n",
    "import tensorly as tn\n",
    "\n",
    "from loewnerize_acts import loewnerize_acts\n"
   ]
  },
  {
   "cell_type": "markdown",
   "id": "c4e62e22-8558-4b68-b1cf-c7d6e15e98e3",
   "metadata": {},
   "source": [
    "## get matlab engine set up with tensorlab\n"
   ]
  },
  {
   "cell_type": "code",
   "execution_count": 2,
   "id": "ffc2cf2f-0d0c-422b-8df2-696635f1f400",
   "metadata": {},
   "outputs": [],
   "source": [
    "import matlab.engine\n",
    "eng = matlab.engine.start_matlab()\n",
    "s = eng.genpath('~/ware/matlab_tools/tensorlab')\n",
    "eng.addpath(s, nargout=0)"
   ]
  },
  {
   "cell_type": "markdown",
   "id": "66bc90df-9da8-4a58-889d-756fd2e00525",
   "metadata": {},
   "source": [
    "# Build Loewner tensors split according to target (0-9) from 99th test run\n",
    "## load activations for 300 node layer (inputs - x & outputs - f(x))"
   ]
  },
  {
   "cell_type": "code",
   "execution_count": 3,
   "id": "aa46facf-e9e8-47b6-8ac4-10c03a82ce19",
   "metadata": {},
   "outputs": [],
   "source": [
    "targets_path = '../data/Lenet300100/activations/test/targets.npy'\n",
    "targets = np.load(targets_path)\n",
    "\n",
    "inputs_path = '../data/Lenet300100/activations/test/99/Linear_0.npy'\n",
    "inputs_raw = np.load(inputs_path)\n",
    "\n",
    "outputs_path = '../data/Lenet300100/activations/test/99/Rational_1.npy'\n",
    "outputs_raw = np.load(outputs_path)\n",
    "\n",
    "tensorlab_path = '~/ware/matlab_tools/tensorlab'"
   ]
  },
  {
   "cell_type": "code",
   "execution_count": 5,
   "id": "e99b25ce-1f88-432e-8003-c2be9831ab08",
   "metadata": {},
   "outputs": [],
   "source": [
    "# loewnerize activations --> returns a list of activation tensors split according to targets (0-9)\n",
    "lwn_tensors = loewnerize_acts(inputs_raw, outputs_raw, targets, tensorlab_path)"
   ]
  },
  {
   "cell_type": "code",
   "execution_count": 8,
   "id": "b846e370-0e7b-49dc-bba3-72ca5735d5b7",
   "metadata": {},
   "outputs": [],
   "source": [
    "datapath = '../data/Lenet300100/activations/test/99/ten_acts/300_node_act_tens'\n",
    "np.savez(datapath, *lwn_tensors)"
   ]
  },
  {
   "cell_type": "markdown",
   "id": "d664a323-9d47-4d3e-9157-ef1b0219863d",
   "metadata": {},
   "source": [
    "## load activations for 100 node layer (inputs - x & outputs - f(x))"
   ]
  },
  {
   "cell_type": "code",
   "execution_count": 10,
   "id": "bf794a31-9784-49d1-a890-466eb150acfb",
   "metadata": {},
   "outputs": [],
   "source": [
    "inputs_path = '../data/Lenet300100/activations/test/99/Linear_2.npy'\n",
    "inputs_raw = np.load(inputs_path)\n",
    "\n",
    "outputs_path = '../data/Lenet300100/activations/test/99/Rational_3.npy'\n",
    "outputs_raw = np.load(outputs_path)"
   ]
  },
  {
   "cell_type": "code",
   "execution_count": 11,
   "id": "043518a3-489a-42ef-8b28-1f24558d3de0",
   "metadata": {},
   "outputs": [],
   "source": [
    "# loewnerize activations --> returns a list of activation tensors split according to targets (0-9)\n",
    "lwn_tensors = loewnerize_acts(inputs_raw, outputs_raw, targets, tensorlab_path)"
   ]
  },
  {
   "cell_type": "code",
   "execution_count": 12,
   "id": "2024ef1d-8d2d-40aa-9cab-be20de8a76ec",
   "metadata": {},
   "outputs": [],
   "source": [
    "datapath = '../data/Lenet300100/activations/test/99/ten_acts/100_node_act_tens'\n",
    "np.savez(datapath, *lwn_tensors)"
   ]
  },
  {
   "cell_type": "markdown",
   "id": "299cc34f-e495-4215-bafd-d882170d2375",
   "metadata": {},
   "source": [
    "### Lownerize '0' examples"
   ]
  },
  {
   "cell_type": "code",
   "execution_count": 19,
   "id": "02d57aca-b0a7-4391-b0fe-538965f5cbf3",
   "metadata": {},
   "outputs": [
    {
     "name": "stdout",
     "output_type": "stream",
     "text": [
      "(150, 150, 979)\n",
      "[3 3 3 3 3 3 3 3 3 3]\n"
     ]
    }
   ],
   "source": [
    "num_rows = o_0.shape[0]\n",
    "lwn_0 = np.empty((150,150,0))\n",
    "for i in range(0,num_rows):\n",
    "    lwn_tmp = eng.loewnerize(o_0[i,:], 'T', i_0[i,:])\n",
    "    lwn_0 = np.dstack((lwn_0,lwn_tmp))\n",
    "print(lwn_0.shape)\n",
    "\n",
    "# now apply block-term decomp into (3,3,1) terms\n",
    "L = 3 * np.ones(10, dtype=int)\n",
    "print(L)\n"
   ]
  },
  {
   "cell_type": "code",
   "execution_count": 20,
   "id": "71bd0954-2a5d-4cb0-8519-92e3869eaf76",
   "metadata": {},
   "outputs": [],
   "source": [
    "Uhat = eng.ll1(lwn_0, L)"
   ]
  },
  {
   "cell_type": "code",
   "execution_count": 21,
   "id": "32eff1e9-74ab-4783-8e41-2e97d8e6099a",
   "metadata": {},
   "outputs": [
    {
     "name": "stdout",
     "output_type": "stream",
     "text": [
      "Warning: It is recommended to format this tensor with fmt (conversion took 0.637037s).\n",
      "> In fmt (line 211)\n",
      "In btdres (line 38)\n",
      "In ll1res (line 56)\n"
     ]
    },
    {
     "ename": "TypeError",
     "evalue": "unsupported data type returned from MATLAB",
     "output_type": "error",
     "traceback": [
      "\u001b[0;31m---------------------------------------------------------------------------\u001b[0m",
      "\u001b[0;31mTypeError\u001b[0m                                 Traceback (most recent call last)",
      "Cell \u001b[0;32mIn[21], line 1\u001b[0m\n\u001b[0;32m----> 1\u001b[0m res \u001b[38;5;241m=\u001b[39m \u001b[43meng\u001b[49m\u001b[38;5;241;43m.\u001b[39;49m\u001b[43mll1res\u001b[49m\u001b[43m(\u001b[49m\u001b[43mlwn_0\u001b[49m\u001b[43m,\u001b[49m\u001b[43m \u001b[49m\u001b[43mUhat\u001b[49m\u001b[43m)\u001b[49m\n\u001b[1;32m      2\u001b[0m \u001b[38;5;28mprint\u001b[39m(res)\n",
      "File \u001b[0;32m~/.local/share/virtualenvs/TensorizedRatNets-DxjV3XTv/lib/python3.10/site-packages/matlab/engine/matlabengine.py:71\u001b[0m, in \u001b[0;36mMatlabFunc.__call__\u001b[0;34m(self, *args, **kwargs)\u001b[0m\n\u001b[1;32m     68\u001b[0m     \u001b[38;5;28;01mreturn\u001b[39;00m FutureResult(\u001b[38;5;28mself\u001b[39m\u001b[38;5;241m.\u001b[39m_engine(), future, nargs, _stdout, _stderr, feval\u001b[38;5;241m=\u001b[39m\u001b[38;5;28;01mTrue\u001b[39;00m)\n\u001b[1;32m     69\u001b[0m \u001b[38;5;28;01melse\u001b[39;00m:\n\u001b[1;32m     70\u001b[0m     \u001b[38;5;28;01mreturn\u001b[39;00m \u001b[43mFutureResult\u001b[49m\u001b[43m(\u001b[49m\u001b[38;5;28;43mself\u001b[39;49m\u001b[38;5;241;43m.\u001b[39;49m\u001b[43m_engine\u001b[49m\u001b[43m(\u001b[49m\u001b[43m)\u001b[49m\u001b[43m,\u001b[49m\u001b[43m \u001b[49m\u001b[43mfuture\u001b[49m\u001b[43m,\u001b[49m\u001b[43m \u001b[49m\u001b[43mnargs\u001b[49m\u001b[43m,\u001b[49m\u001b[43m \u001b[49m\u001b[43m_stdout\u001b[49m\u001b[43m,\u001b[49m\n\u001b[0;32m---> 71\u001b[0m \u001b[43m                        \u001b[49m\u001b[43m_stderr\u001b[49m\u001b[43m,\u001b[49m\u001b[43m \u001b[49m\u001b[43mfeval\u001b[49m\u001b[38;5;241;43m=\u001b[39;49m\u001b[38;5;28;43;01mTrue\u001b[39;49;00m\u001b[43m)\u001b[49m\u001b[38;5;241;43m.\u001b[39;49m\u001b[43mresult\u001b[49m\u001b[43m(\u001b[49m\u001b[43m)\u001b[49m\n",
      "File \u001b[0;32m~/.local/share/virtualenvs/TensorizedRatNets-DxjV3XTv/lib/python3.10/site-packages/matlab/engine/futureresult.py:67\u001b[0m, in \u001b[0;36mFutureResult.result\u001b[0;34m(self, timeout)\u001b[0m\n\u001b[1;32m     64\u001b[0m     \u001b[38;5;28;01mif\u001b[39;00m timeout \u001b[38;5;241m<\u001b[39m \u001b[38;5;241m0\u001b[39m:\n\u001b[1;32m     65\u001b[0m         \u001b[38;5;28;01mraise\u001b[39;00m \u001b[38;5;167;01mTypeError\u001b[39;00m(pythonengine\u001b[38;5;241m.\u001b[39mgetMessage(\u001b[38;5;124m'\u001b[39m\u001b[38;5;124mTimeoutCannotBeNegative\u001b[39m\u001b[38;5;124m'\u001b[39m))\n\u001b[0;32m---> 67\u001b[0m \u001b[38;5;28;01mreturn\u001b[39;00m \u001b[38;5;28;43mself\u001b[39;49m\u001b[38;5;241;43m.\u001b[39;49m\u001b[43m__future\u001b[49m\u001b[38;5;241;43m.\u001b[39;49m\u001b[43mresult\u001b[49m\u001b[43m(\u001b[49m\u001b[43mtimeout\u001b[49m\u001b[43m)\u001b[49m\n",
      "File \u001b[0;32m~/.local/share/virtualenvs/TensorizedRatNets-DxjV3XTv/lib/python3.10/site-packages/matlab/engine/fevalfuture.py:82\u001b[0m, in \u001b[0;36mFevalFuture.result\u001b[0;34m(self, timeout)\u001b[0m\n\u001b[1;32m     79\u001b[0m \u001b[38;5;28;01mif\u001b[39;00m \u001b[38;5;129;01mnot\u001b[39;00m result_ready:\n\u001b[1;32m     80\u001b[0m     \u001b[38;5;28;01mraise\u001b[39;00m \u001b[38;5;167;01mTimeoutError\u001b[39;00m(pythonengine\u001b[38;5;241m.\u001b[39mgetMessage(\u001b[38;5;124m'\u001b[39m\u001b[38;5;124mMatlabFunctionTimeout\u001b[39m\u001b[38;5;124m'\u001b[39m))\n\u001b[0;32m---> 82\u001b[0m \u001b[38;5;28mself\u001b[39m\u001b[38;5;241m.\u001b[39m_result \u001b[38;5;241m=\u001b[39m \u001b[43mpythonengine\u001b[49m\u001b[38;5;241;43m.\u001b[39;49m\u001b[43mgetFEvalResult\u001b[49m\u001b[43m(\u001b[49m\u001b[38;5;28;43mself\u001b[39;49m\u001b[38;5;241;43m.\u001b[39;49m\u001b[43m_future\u001b[49m\u001b[43m,\u001b[49m\u001b[38;5;28;43mself\u001b[39;49m\u001b[38;5;241;43m.\u001b[39;49m\u001b[43m_nargout\u001b[49m\u001b[43m,\u001b[49m\u001b[43m \u001b[49m\u001b[38;5;28;43;01mNone\u001b[39;49;00m\u001b[43m,\u001b[49m\u001b[43m \u001b[49m\u001b[43mout\u001b[49m\u001b[38;5;241;43m=\u001b[39;49m\u001b[38;5;28;43mself\u001b[39;49m\u001b[38;5;241;43m.\u001b[39;49m\u001b[43m_out\u001b[49m\u001b[43m,\u001b[49m\u001b[43m \u001b[49m\u001b[43merr\u001b[49m\u001b[38;5;241;43m=\u001b[39;49m\u001b[38;5;28;43mself\u001b[39;49m\u001b[38;5;241;43m.\u001b[39;49m\u001b[43m_err\u001b[49m\u001b[43m)\u001b[49m\n\u001b[1;32m     83\u001b[0m \u001b[38;5;28mself\u001b[39m\u001b[38;5;241m.\u001b[39m_retrieved \u001b[38;5;241m=\u001b[39m \u001b[38;5;28;01mTrue\u001b[39;00m\n\u001b[1;32m     84\u001b[0m \u001b[38;5;28;01mreturn\u001b[39;00m \u001b[38;5;28mself\u001b[39m\u001b[38;5;241m.\u001b[39m_result\n",
      "\u001b[0;31mTypeError\u001b[0m: unsupported data type returned from MATLAB"
     ]
    }
   ],
   "source": [
    "res = eng.ll1res(lwn_0, Uhat)\n",
    "print(res)"
   ]
  },
  {
   "cell_type": "code",
   "execution_count": null,
   "id": "1688f527-ae64-4465-a9af-4cc59ebf2231",
   "metadata": {},
   "outputs": [],
   "source": []
  }
 ],
 "metadata": {
  "kernelspec": {
   "display_name": "TensorizedRatNets",
   "language": "python",
   "name": "tensorizedratnets"
  },
  "language_info": {
   "codemirror_mode": {
    "name": "ipython",
    "version": 3
   },
   "file_extension": ".py",
   "mimetype": "text/x-python",
   "name": "python",
   "nbconvert_exporter": "python",
   "pygments_lexer": "ipython3",
   "version": "3.10.12"
  }
 },
 "nbformat": 4,
 "nbformat_minor": 5
}
