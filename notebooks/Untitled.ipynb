{
 "cells": [
  {
   "cell_type": "markdown",
   "id": "d5d5cd5c-d267-4ec1-a495-3ee631154dcb",
   "metadata": {},
   "source": [
    "# IMPORTS"
   ]
  },
  {
   "cell_type": "code",
   "execution_count": 1,
   "id": "9bc07d22-66d8-4c3a-b4d9-826fb1e1405e",
   "metadata": {},
   "outputs": [],
   "source": [
    "import sys\n",
    "sys.path.append('../src/')\n",
    "import os\n",
    "import copy\n",
    "\n",
    "import numpy as np\n",
    "import tensorly as tn\n",
    "\n",
    "from loewnerize_acts import loewnerize_acts\n"
   ]
  },
  {
   "cell_type": "markdown",
   "id": "c4e62e22-8558-4b68-b1cf-c7d6e15e98e3",
   "metadata": {},
   "source": [
    "## get matlab engine set up with tensorlab\n"
   ]
  },
  {
   "cell_type": "code",
   "execution_count": 2,
   "id": "ffc2cf2f-0d0c-422b-8df2-696635f1f400",
   "metadata": {},
   "outputs": [],
   "source": [
    "import matlab.engine\n",
    "eng = matlab.engine.start_matlab()\n",
    "s = eng.genpath('~/ware/matlab_tools/tensorlab')\n",
    "eng.addpath(s, nargout=0)"
   ]
  },
  {
   "cell_type": "markdown",
   "id": "66bc90df-9da8-4a58-889d-756fd2e00525",
   "metadata": {},
   "source": [
    "# mess around\n",
    "## load activations for 300 node layer (inputs - x & outputs - f(x))"
   ]
  },
  {
   "cell_type": "code",
   "execution_count": 2,
   "id": "aa46facf-e9e8-47b6-8ac4-10c03a82ce19",
   "metadata": {},
   "outputs": [],
   "source": [
    "targets_path = '../data/Lenet300100/activations/test/targets.npy'\n",
    "targets = np.load(targets_path)\n",
    "\n",
    "inputs_path = '../data/Lenet300100/activations/test/99/Linear_0.npy'\n",
    "inputs_raw = np.load(inputs_path)\n",
    "\n",
    "outputs_path = '../data/Lenet300100/activations/test/99/Rational_1.npy'\n",
    "outputs_raw = np.load(outputs_path)\n",
    "\n",
    "tensorlab_path = '~/ware/matlab_tools/tensorlab'"
   ]
  },
  {
   "cell_type": "code",
   "execution_count": 3,
   "id": "e99b25ce-1f88-432e-8003-c2be9831ab08",
   "metadata": {},
   "outputs": [
    {
     "ename": "ValueError",
     "evalue": "setting an array element with a sequence.",
     "output_type": "error",
     "traceback": [
      "\u001b[0;31m---------------------------------------------------------------------------\u001b[0m",
      "\u001b[0;31mTypeError\u001b[0m                                 Traceback (most recent call last)",
      "\u001b[0;31mTypeError\u001b[0m: only length-1 arrays can be converted to Python scalars",
      "\nThe above exception was the direct cause of the following exception:\n",
      "\u001b[0;31mValueError\u001b[0m                                Traceback (most recent call last)",
      "Cell \u001b[0;32mIn[3], line 2\u001b[0m\n\u001b[1;32m      1\u001b[0m \u001b[38;5;66;03m# loewnerize activations --> returns a list of activation tensors split according to targets (0-9)\u001b[39;00m\n\u001b[0;32m----> 2\u001b[0m lwn_tensors \u001b[38;5;241m=\u001b[39m \u001b[43mloewnerize_acts\u001b[49m\u001b[43m(\u001b[49m\u001b[43minputs_raw\u001b[49m\u001b[43m,\u001b[49m\u001b[43m \u001b[49m\u001b[43moutputs_raw\u001b[49m\u001b[43m,\u001b[49m\u001b[43m \u001b[49m\u001b[43mtargets\u001b[49m\u001b[43m,\u001b[49m\u001b[43m \u001b[49m\u001b[43mtensorlab_path\u001b[49m\u001b[43m)\u001b[49m\n",
      "File \u001b[0;32m~/repos/TensorizedRatNets/notebooks/../src/loewnerize_acts.py:45\u001b[0m, in \u001b[0;36mloewnerize_acts\u001b[0;34m(inputs_raw, outputs_raw, targets, tensorlab_path)\u001b[0m\n\u001b[1;32m     43\u001b[0m \u001b[38;5;28;01mfor\u001b[39;00m j \u001b[38;5;129;01min\u001b[39;00m \u001b[38;5;28mrange\u001b[39m(\u001b[38;5;241m0\u001b[39m,\u001b[38;5;241m10\u001b[39m):\n\u001b[1;32m     44\u001b[0m     num_rows \u001b[38;5;241m=\u001b[39m o_targets[j]\u001b[38;5;241m.\u001b[39mshape[\u001b[38;5;241m0\u001b[39m]\n\u001b[0;32m---> 45\u001b[0m     \u001b[43mloewner_tens\u001b[49m\u001b[43m[\u001b[49m\u001b[43mj\u001b[49m\u001b[43m]\u001b[49m \u001b[38;5;241m=\u001b[39m np\u001b[38;5;241m.\u001b[39mempty((I, J, \u001b[38;5;241m0\u001b[39m))\n\u001b[1;32m     46\u001b[0m     \u001b[38;5;66;03m# loewner_tens.append(np.empty((I, J, 0)))\u001b[39;00m\n\u001b[1;32m     47\u001b[0m     \u001b[38;5;28;01mfor\u001b[39;00m i \u001b[38;5;129;01min\u001b[39;00m \u001b[38;5;28mrange\u001b[39m(\u001b[38;5;241m0\u001b[39m,num_rows):\n",
      "\u001b[0;31mValueError\u001b[0m: setting an array element with a sequence."
     ]
    }
   ],
   "source": [
    "# loewnerize activations --> returns a list of activation tensors split according to targets (0-9)\n",
    "lwn_tensors = loewnerize_acts(inputs_raw, outputs_raw, targets, tensorlab_path)"
   ]
  },
  {
   "cell_type": "code",
   "execution_count": 17,
   "id": "2b422d46-fbc4-4864-bc5f-fe5fce6c8077",
   "metadata": {},
   "outputs": [
    {
     "name": "stdout",
     "output_type": "stream",
     "text": [
      "(150, 150, 979)\n",
      "<class 'numpy.ndarray'>\n",
      "<class 'list'>\n"
     ]
    }
   ],
   "source": [
    "print(lwn_tensors[0].shape)\n",
    "print(type(lwn_tensors[0]))\n",
    "print(type(lwn_tensors))"
   ]
  },
  {
   "cell_type": "code",
   "execution_count": 15,
   "id": "b846e370-0e7b-49dc-bba3-72ca5735d5b7",
   "metadata": {},
   "outputs": [
    {
     "ename": "ValueError",
     "evalue": "setting an array element with a sequence. The requested array has an inhomogeneous shape after 3 dimensions. The detected shape was (10, 150, 150) + inhomogeneous part.",
     "output_type": "error",
     "traceback": [
      "\u001b[0;31m---------------------------------------------------------------------------\u001b[0m",
      "\u001b[0;31mValueError\u001b[0m                                Traceback (most recent call last)",
      "Cell \u001b[0;32mIn[15], line 2\u001b[0m\n\u001b[1;32m      1\u001b[0m datapath \u001b[38;5;241m=\u001b[39m \u001b[38;5;124m'\u001b[39m\u001b[38;5;124m../data/Lenet300100/activations/test/99/ten_acts/300_node_act_tens\u001b[39m\u001b[38;5;124m'\u001b[39m\n\u001b[0;32m----> 2\u001b[0m np\u001b[38;5;241m.\u001b[39msave(datapath, \u001b[43mnp\u001b[49m\u001b[38;5;241;43m.\u001b[39;49m\u001b[43masarray\u001b[49m\u001b[43m(\u001b[49m\u001b[43mlwn_tensors\u001b[49m\u001b[43m)\u001b[49m)\n",
      "\u001b[0;31mValueError\u001b[0m: setting an array element with a sequence. The requested array has an inhomogeneous shape after 3 dimensions. The detected shape was (10, 150, 150) + inhomogeneous part."
     ]
    }
   ],
   "source": [
    "datapath = '../data/Lenet300100/activations/test/99/ten_acts/300_node_act_tens'\n",
    "np.save(datapath, np.asarray(lwn_tensors))"
   ]
  },
  {
   "cell_type": "code",
   "execution_count": 5,
   "id": "92fd3e90-662a-4aaf-b253-d3fc0d91f0ac",
   "metadata": {},
   "outputs": [
    {
     "data": {
      "text/plain": [
       "(9984,)"
      ]
     },
     "execution_count": 5,
     "metadata": {},
     "output_type": "execute_result"
    }
   ],
   "source": [
    "targets.shape\n"
   ]
  },
  {
   "cell_type": "code",
   "execution_count": 6,
   "id": "1e7cbf00-7b84-44e2-ab90-ae602690f3a2",
   "metadata": {},
   "outputs": [
    {
     "data": {
      "text/plain": [
       "(39, 256, 300)"
      ]
     },
     "execution_count": 6,
     "metadata": {},
     "output_type": "execute_result"
    }
   ],
   "source": [
    "inputs_raw.shape"
   ]
  },
  {
   "cell_type": "code",
   "execution_count": 7,
   "id": "5228b0cf-19eb-47bf-acf9-84d4eadf4673",
   "metadata": {},
   "outputs": [
    {
     "data": {
      "text/plain": [
       "(39, 256, 300)"
      ]
     },
     "execution_count": 7,
     "metadata": {},
     "output_type": "execute_result"
    }
   ],
   "source": [
    "outputs_raw.shape"
   ]
  },
  {
   "cell_type": "markdown",
   "id": "aa0525a7-efce-442c-ba08-df04cb805b84",
   "metadata": {},
   "source": [
    "### 39 batchs of 256 examples = 9984 total examples\n",
    "Need to reshape inputs and outputs "
   ]
  },
  {
   "cell_type": "code",
   "execution_count": 8,
   "id": "9173dbf8-ab15-46bf-910e-2030775e42e8",
   "metadata": {},
   "outputs": [],
   "source": [
    "inputs = inputs_raw.reshape(-1, inputs_raw.shape[-1])\n",
    "outputs = outputs_raw.reshape(-1, outputs_raw.shape[-1])"
   ]
  },
  {
   "cell_type": "code",
   "execution_count": 9,
   "id": "e15c70cb-7181-4e5c-a268-bb453c2af0f1",
   "metadata": {},
   "outputs": [
    {
     "data": {
      "text/plain": [
       "300"
      ]
     },
     "execution_count": 9,
     "metadata": {},
     "output_type": "execute_result"
    }
   ],
   "source": [
    "inputs.shape[1]"
   ]
  },
  {
   "cell_type": "code",
   "execution_count": 8,
   "id": "4e05017a-2213-4fa4-95e4-cd12c9916e83",
   "metadata": {},
   "outputs": [
    {
     "data": {
      "text/plain": [
       "1"
      ]
     },
     "execution_count": 8,
     "metadata": {},
     "output_type": "execute_result"
    }
   ],
   "source": [
    "targets.ndim"
   ]
  },
  {
   "cell_type": "code",
   "execution_count": 15,
   "id": "ddfc9190-b06d-4c6b-80d0-994c44e89026",
   "metadata": {},
   "outputs": [],
   "source": [
    "i_0 = np.empty((0,300))\n",
    "i_1 = np.empty((0,300))\n",
    "i_2 = np.empty((0,300))\n",
    "i_3 = np.empty((0,300))\n",
    "i_4 = np.empty((0,300))\n",
    "i_5 = np.empty((0,300))\n",
    "i_6 = np.empty((0,300))\n",
    "i_7 = np.empty((0,300))\n",
    "i_8 = np.empty((0,300))\n",
    "i_9 = np.empty((0,300))\n",
    "\n",
    "o_0 = np.empty((0,300))\n",
    "o_1 = np.empty((0,300))\n",
    "o_2 = np.empty((0,300))\n",
    "o_3 = np.empty((0,300))\n",
    "o_4 = np.empty((0,300))\n",
    "o_5 = np.empty((0,300))\n",
    "o_6 = np.empty((0,300))\n",
    "o_7 = np.empty((0,300))\n",
    "o_8 = np.empty((0,300))\n",
    "o_9 = np.empty((0,300))\n",
    "\n",
    "for idx,x in enumerate(targets):\n",
    "    if x == 0:\n",
    "        i_0 = np.vstack([i_0,inputs[idx,:]])\n",
    "        o_0 = np.vstack([o_0,outputs[idx,:]])\n",
    "    elif x == 1:\n",
    "        i_1 = np.vstack([i_1,inputs[idx,:]])\n",
    "        o_1 = np.vstack([o_1,outputs[idx,:]])\n",
    "    elif x == 2:\n",
    "        i_2 = np.vstack([i_2,inputs[idx,:]])\n",
    "        o_2 = np.vstack([o_2,outputs[idx,:]])\n",
    "    elif x == 3:\n",
    "        i_3 = np.vstack([i_3,inputs[idx,:]])\n",
    "        o_3 = np.vstack([o_3,outputs[idx,:]])\n",
    "    elif x == 4:\n",
    "        i_4 = np.vstack([i_4,inputs[idx,:]])\n",
    "        o_4 = np.vstack([o_4,outputs[idx,:]])\n",
    "    elif x == 5:\n",
    "        i_5 = np.vstack([i_5,inputs[idx,:]])\n",
    "        o_5 = np.vstack([o_5,outputs[idx,:]])\n",
    "    elif x == 6:\n",
    "        i_6 = np.vstack([i_6,inputs[idx,:]])\n",
    "        o_6 = np.vstack([o_6,outputs[idx,:]])\n",
    "    elif x == 7:\n",
    "        i_7 = np.vstack([i_7,inputs[idx,:]])\n",
    "        o_7 = np.vstack([o_7,outputs[idx,:]])\n",
    "    elif x == 8:\n",
    "        i_8 = np.vstack([i_8,inputs[idx,:]])\n",
    "        o_8 = np.vstack([o_8,outputs[idx,:]])\n",
    "    elif x == 9:\n",
    "        i_9 = np.vstack([i_9,inputs[idx,:]])\n",
    "        o_9 = np.vstack([o_9,outputs[idx,:]])"
   ]
  },
  {
   "cell_type": "code",
   "execution_count": 16,
   "id": "8442aee0-3e93-4b4b-a3dd-44b67d207387",
   "metadata": {},
   "outputs": [
    {
     "name": "stdout",
     "output_type": "stream",
     "text": [
      "(979, 300)\n",
      "(1133, 300)\n",
      "(1030, 300)\n",
      "(1008, 300)\n",
      "(980, 300)\n",
      "(890, 300)\n",
      "(956, 300)\n",
      "(1027, 300)\n",
      "(973, 300)\n",
      "(1008, 300)\n"
     ]
    }
   ],
   "source": [
    "print(o_0.shape)\n",
    "print(o_1.shape)\n",
    "print(o_2.shape)\n",
    "print(o_3.shape)\n",
    "print(o_4.shape)\n",
    "print(o_5.shape)\n",
    "print(o_6.shape)\n",
    "print(o_7.shape)\n",
    "print(o_8.shape)\n",
    "print(o_9.shape)"
   ]
  },
  {
   "cell_type": "markdown",
   "id": "299cc34f-e495-4215-bafd-d882170d2375",
   "metadata": {},
   "source": [
    "### Lownerize '0' examples"
   ]
  },
  {
   "cell_type": "code",
   "execution_count": 19,
   "id": "02d57aca-b0a7-4391-b0fe-538965f5cbf3",
   "metadata": {},
   "outputs": [
    {
     "name": "stdout",
     "output_type": "stream",
     "text": [
      "(150, 150, 979)\n",
      "[3 3 3 3 3 3 3 3 3 3]\n"
     ]
    }
   ],
   "source": [
    "num_rows = o_0.shape[0]\n",
    "lwn_0 = np.empty((150,150,0))\n",
    "for i in range(0,num_rows):\n",
    "    lwn_tmp = eng.loewnerize(o_0[i,:], 'T', i_0[i,:])\n",
    "    lwn_0 = np.dstack((lwn_0,lwn_tmp))\n",
    "print(lwn_0.shape)\n",
    "\n",
    "# now apply block-term decomp into (3,3,1) terms\n",
    "L = 3 * np.ones(10, dtype=int)\n",
    "print(L)\n"
   ]
  },
  {
   "cell_type": "code",
   "execution_count": 20,
   "id": "71bd0954-2a5d-4cb0-8519-92e3869eaf76",
   "metadata": {},
   "outputs": [],
   "source": [
    "Uhat = eng.ll1(lwn_0, L)"
   ]
  },
  {
   "cell_type": "code",
   "execution_count": 21,
   "id": "32eff1e9-74ab-4783-8e41-2e97d8e6099a",
   "metadata": {},
   "outputs": [
    {
     "name": "stdout",
     "output_type": "stream",
     "text": [
      "Warning: It is recommended to format this tensor with fmt (conversion took 0.637037s).\n",
      "> In fmt (line 211)\n",
      "In btdres (line 38)\n",
      "In ll1res (line 56)\n"
     ]
    },
    {
     "ename": "TypeError",
     "evalue": "unsupported data type returned from MATLAB",
     "output_type": "error",
     "traceback": [
      "\u001b[0;31m---------------------------------------------------------------------------\u001b[0m",
      "\u001b[0;31mTypeError\u001b[0m                                 Traceback (most recent call last)",
      "Cell \u001b[0;32mIn[21], line 1\u001b[0m\n\u001b[0;32m----> 1\u001b[0m res \u001b[38;5;241m=\u001b[39m \u001b[43meng\u001b[49m\u001b[38;5;241;43m.\u001b[39;49m\u001b[43mll1res\u001b[49m\u001b[43m(\u001b[49m\u001b[43mlwn_0\u001b[49m\u001b[43m,\u001b[49m\u001b[43m \u001b[49m\u001b[43mUhat\u001b[49m\u001b[43m)\u001b[49m\n\u001b[1;32m      2\u001b[0m \u001b[38;5;28mprint\u001b[39m(res)\n",
      "File \u001b[0;32m~/.local/share/virtualenvs/TensorizedRatNets-DxjV3XTv/lib/python3.10/site-packages/matlab/engine/matlabengine.py:71\u001b[0m, in \u001b[0;36mMatlabFunc.__call__\u001b[0;34m(self, *args, **kwargs)\u001b[0m\n\u001b[1;32m     68\u001b[0m     \u001b[38;5;28;01mreturn\u001b[39;00m FutureResult(\u001b[38;5;28mself\u001b[39m\u001b[38;5;241m.\u001b[39m_engine(), future, nargs, _stdout, _stderr, feval\u001b[38;5;241m=\u001b[39m\u001b[38;5;28;01mTrue\u001b[39;00m)\n\u001b[1;32m     69\u001b[0m \u001b[38;5;28;01melse\u001b[39;00m:\n\u001b[1;32m     70\u001b[0m     \u001b[38;5;28;01mreturn\u001b[39;00m \u001b[43mFutureResult\u001b[49m\u001b[43m(\u001b[49m\u001b[38;5;28;43mself\u001b[39;49m\u001b[38;5;241;43m.\u001b[39;49m\u001b[43m_engine\u001b[49m\u001b[43m(\u001b[49m\u001b[43m)\u001b[49m\u001b[43m,\u001b[49m\u001b[43m \u001b[49m\u001b[43mfuture\u001b[49m\u001b[43m,\u001b[49m\u001b[43m \u001b[49m\u001b[43mnargs\u001b[49m\u001b[43m,\u001b[49m\u001b[43m \u001b[49m\u001b[43m_stdout\u001b[49m\u001b[43m,\u001b[49m\n\u001b[0;32m---> 71\u001b[0m \u001b[43m                        \u001b[49m\u001b[43m_stderr\u001b[49m\u001b[43m,\u001b[49m\u001b[43m \u001b[49m\u001b[43mfeval\u001b[49m\u001b[38;5;241;43m=\u001b[39;49m\u001b[38;5;28;43;01mTrue\u001b[39;49;00m\u001b[43m)\u001b[49m\u001b[38;5;241;43m.\u001b[39;49m\u001b[43mresult\u001b[49m\u001b[43m(\u001b[49m\u001b[43m)\u001b[49m\n",
      "File \u001b[0;32m~/.local/share/virtualenvs/TensorizedRatNets-DxjV3XTv/lib/python3.10/site-packages/matlab/engine/futureresult.py:67\u001b[0m, in \u001b[0;36mFutureResult.result\u001b[0;34m(self, timeout)\u001b[0m\n\u001b[1;32m     64\u001b[0m     \u001b[38;5;28;01mif\u001b[39;00m timeout \u001b[38;5;241m<\u001b[39m \u001b[38;5;241m0\u001b[39m:\n\u001b[1;32m     65\u001b[0m         \u001b[38;5;28;01mraise\u001b[39;00m \u001b[38;5;167;01mTypeError\u001b[39;00m(pythonengine\u001b[38;5;241m.\u001b[39mgetMessage(\u001b[38;5;124m'\u001b[39m\u001b[38;5;124mTimeoutCannotBeNegative\u001b[39m\u001b[38;5;124m'\u001b[39m))\n\u001b[0;32m---> 67\u001b[0m \u001b[38;5;28;01mreturn\u001b[39;00m \u001b[38;5;28;43mself\u001b[39;49m\u001b[38;5;241;43m.\u001b[39;49m\u001b[43m__future\u001b[49m\u001b[38;5;241;43m.\u001b[39;49m\u001b[43mresult\u001b[49m\u001b[43m(\u001b[49m\u001b[43mtimeout\u001b[49m\u001b[43m)\u001b[49m\n",
      "File \u001b[0;32m~/.local/share/virtualenvs/TensorizedRatNets-DxjV3XTv/lib/python3.10/site-packages/matlab/engine/fevalfuture.py:82\u001b[0m, in \u001b[0;36mFevalFuture.result\u001b[0;34m(self, timeout)\u001b[0m\n\u001b[1;32m     79\u001b[0m \u001b[38;5;28;01mif\u001b[39;00m \u001b[38;5;129;01mnot\u001b[39;00m result_ready:\n\u001b[1;32m     80\u001b[0m     \u001b[38;5;28;01mraise\u001b[39;00m \u001b[38;5;167;01mTimeoutError\u001b[39;00m(pythonengine\u001b[38;5;241m.\u001b[39mgetMessage(\u001b[38;5;124m'\u001b[39m\u001b[38;5;124mMatlabFunctionTimeout\u001b[39m\u001b[38;5;124m'\u001b[39m))\n\u001b[0;32m---> 82\u001b[0m \u001b[38;5;28mself\u001b[39m\u001b[38;5;241m.\u001b[39m_result \u001b[38;5;241m=\u001b[39m \u001b[43mpythonengine\u001b[49m\u001b[38;5;241;43m.\u001b[39;49m\u001b[43mgetFEvalResult\u001b[49m\u001b[43m(\u001b[49m\u001b[38;5;28;43mself\u001b[39;49m\u001b[38;5;241;43m.\u001b[39;49m\u001b[43m_future\u001b[49m\u001b[43m,\u001b[49m\u001b[38;5;28;43mself\u001b[39;49m\u001b[38;5;241;43m.\u001b[39;49m\u001b[43m_nargout\u001b[49m\u001b[43m,\u001b[49m\u001b[43m \u001b[49m\u001b[38;5;28;43;01mNone\u001b[39;49;00m\u001b[43m,\u001b[49m\u001b[43m \u001b[49m\u001b[43mout\u001b[49m\u001b[38;5;241;43m=\u001b[39;49m\u001b[38;5;28;43mself\u001b[39;49m\u001b[38;5;241;43m.\u001b[39;49m\u001b[43m_out\u001b[49m\u001b[43m,\u001b[49m\u001b[43m \u001b[49m\u001b[43merr\u001b[49m\u001b[38;5;241;43m=\u001b[39;49m\u001b[38;5;28;43mself\u001b[39;49m\u001b[38;5;241;43m.\u001b[39;49m\u001b[43m_err\u001b[49m\u001b[43m)\u001b[49m\n\u001b[1;32m     83\u001b[0m \u001b[38;5;28mself\u001b[39m\u001b[38;5;241m.\u001b[39m_retrieved \u001b[38;5;241m=\u001b[39m \u001b[38;5;28;01mTrue\u001b[39;00m\n\u001b[1;32m     84\u001b[0m \u001b[38;5;28;01mreturn\u001b[39;00m \u001b[38;5;28mself\u001b[39m\u001b[38;5;241m.\u001b[39m_result\n",
      "\u001b[0;31mTypeError\u001b[0m: unsupported data type returned from MATLAB"
     ]
    }
   ],
   "source": [
    "res = eng.ll1res(lwn_0, Uhat)\n",
    "print(res)"
   ]
  },
  {
   "cell_type": "code",
   "execution_count": null,
   "id": "1688f527-ae64-4465-a9af-4cc59ebf2231",
   "metadata": {},
   "outputs": [],
   "source": []
  }
 ],
 "metadata": {
  "kernelspec": {
   "display_name": "TensorizedRatNets",
   "language": "python",
   "name": "tensorizedratnets"
  },
  "language_info": {
   "codemirror_mode": {
    "name": "ipython",
    "version": 3
   },
   "file_extension": ".py",
   "mimetype": "text/x-python",
   "name": "python",
   "nbconvert_exporter": "python",
   "pygments_lexer": "ipython3",
   "version": "3.10.12"
  }
 },
 "nbformat": 4,
 "nbformat_minor": 5
}
