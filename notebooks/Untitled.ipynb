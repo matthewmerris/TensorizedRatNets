{
 "cells": [
  {
   "cell_type": "markdown",
   "id": "d5d5cd5c-d267-4ec1-a495-3ee631154dcb",
   "metadata": {},
   "source": [
    "# IMPORTS"
   ]
  },
  {
   "cell_type": "code",
   "execution_count": 1,
   "id": "9bc07d22-66d8-4c3a-b4d9-826fb1e1405e",
   "metadata": {},
   "outputs": [],
   "source": [
    "import sys\n",
    "sys.path.append('../src/')\n",
    "import os\n",
    "import copy\n",
    "\n",
    "import numpy as np\n",
    "import tensorly as tn\n",
    "\n"
   ]
  },
  {
   "cell_type": "markdown",
   "id": "c4e62e22-8558-4b68-b1cf-c7d6e15e98e3",
   "metadata": {},
   "source": [
    "## get matlab engine set up with tensorlab\n"
   ]
  },
  {
   "cell_type": "code",
   "execution_count": 2,
   "id": "ffc2cf2f-0d0c-422b-8df2-696635f1f400",
   "metadata": {},
   "outputs": [],
   "source": [
    "import matlab.engine\n",
    "eng = matlab.engine.start_matlab()\n",
    "s = eng.genpath('~/ware/matlab_tools/tensorlab')\n",
    "eng.addpath(s, nargout=0)"
   ]
  },
  {
   "cell_type": "markdown",
   "id": "66bc90df-9da8-4a58-889d-756fd2e00525",
   "metadata": {},
   "source": [
    "# mess around\n",
    "## load activations for 300 node layer (inputs - x & outputs - f(x))"
   ]
  },
  {
   "cell_type": "code",
   "execution_count": 3,
   "id": "aa46facf-e9e8-47b6-8ac4-10c03a82ce19",
   "metadata": {},
   "outputs": [],
   "source": [
    "targets_path = '../data/Lenet300100/activations/test/targets.npy'\n",
    "targets = np.load(targets_path)\n",
    "\n",
    "inputs_path = '../data/Lenet300100/activations/test/99/Linear_0.npy'\n",
    "inputs_raw = np.load(inputs_path)\n",
    "\n",
    "outputs_path = '../data/Lenet300100/activations/test/99/Rational_1.npy'\n",
    "outputs_raw = np.load(outputs_path)\n"
   ]
  },
  {
   "cell_type": "code",
   "execution_count": 4,
   "id": "92fd3e90-662a-4aaf-b253-d3fc0d91f0ac",
   "metadata": {},
   "outputs": [
    {
     "data": {
      "text/plain": [
       "(9984,)"
      ]
     },
     "execution_count": 4,
     "metadata": {},
     "output_type": "execute_result"
    }
   ],
   "source": [
    "targets.shape\n"
   ]
  },
  {
   "cell_type": "code",
   "execution_count": 5,
   "id": "1e7cbf00-7b84-44e2-ab90-ae602690f3a2",
   "metadata": {},
   "outputs": [
    {
     "data": {
      "text/plain": [
       "(39, 256, 300)"
      ]
     },
     "execution_count": 5,
     "metadata": {},
     "output_type": "execute_result"
    }
   ],
   "source": [
    "inputs_raw.shape"
   ]
  },
  {
   "cell_type": "code",
   "execution_count": 6,
   "id": "5228b0cf-19eb-47bf-acf9-84d4eadf4673",
   "metadata": {},
   "outputs": [
    {
     "data": {
      "text/plain": [
       "(39, 256, 300)"
      ]
     },
     "execution_count": 6,
     "metadata": {},
     "output_type": "execute_result"
    }
   ],
   "source": [
    "outputs_raw.shape"
   ]
  },
  {
   "cell_type": "markdown",
   "id": "aa0525a7-efce-442c-ba08-df04cb805b84",
   "metadata": {},
   "source": [
    "### 39 batchs of 256 examples = 9984 total examples\n",
    "Need to reshape inputs and outputs "
   ]
  },
  {
   "cell_type": "code",
   "execution_count": 7,
   "id": "9173dbf8-ab15-46bf-910e-2030775e42e8",
   "metadata": {},
   "outputs": [],
   "source": [
    "inputs = inputs_raw.reshape(-1, inputs_raw.shape[-1])\n",
    "outputs = outputs_raw.reshape(-1, outputs_raw.shape[-1])"
   ]
  },
  {
   "cell_type": "code",
   "execution_count": 8,
   "id": "4e05017a-2213-4fa4-95e4-cd12c9916e83",
   "metadata": {},
   "outputs": [
    {
     "data": {
      "text/plain": [
       "1"
      ]
     },
     "execution_count": 8,
     "metadata": {},
     "output_type": "execute_result"
    }
   ],
   "source": [
    "targets.ndim"
   ]
  },
  {
   "cell_type": "code",
   "execution_count": 15,
   "id": "ddfc9190-b06d-4c6b-80d0-994c44e89026",
   "metadata": {},
   "outputs": [],
   "source": [
    "i_0 = np.empty((0,300))\n",
    "i_1 = np.empty((0,300))\n",
    "i_2 = np.empty((0,300))\n",
    "i_3 = np.empty((0,300))\n",
    "i_4 = np.empty((0,300))\n",
    "i_5 = np.empty((0,300))\n",
    "i_6 = np.empty((0,300))\n",
    "i_7 = np.empty((0,300))\n",
    "i_8 = np.empty((0,300))\n",
    "i_9 = np.empty((0,300))\n",
    "\n",
    "o_0 = np.empty((0,300))\n",
    "o_1 = np.empty((0,300))\n",
    "o_2 = np.empty((0,300))\n",
    "o_3 = np.empty((0,300))\n",
    "o_4 = np.empty((0,300))\n",
    "o_5 = np.empty((0,300))\n",
    "o_6 = np.empty((0,300))\n",
    "o_7 = np.empty((0,300))\n",
    "o_8 = np.empty((0,300))\n",
    "o_9 = np.empty((0,300))\n",
    "\n",
    "for idx,x in enumerate(targets):\n",
    "    if x == 0:\n",
    "        i_0 = np.vstack([i_0,inputs[idx,:]])\n",
    "        o_0 = np.vstack([o_0,outputs[idx,:]])\n",
    "    elif x == 1:\n",
    "        i_1 = np.vstack([i_1,inputs[idx,:]])\n",
    "        o_1 = np.vstack([o_1,outputs[idx,:]])\n",
    "    elif x == 2:\n",
    "        i_2 = np.vstack([i_2,inputs[idx,:]])\n",
    "        o_2 = np.vstack([o_2,outputs[idx,:]])\n",
    "    elif x == 3:\n",
    "        i_3 = np.vstack([i_3,inputs[idx,:]])\n",
    "        o_3 = np.vstack([o_3,outputs[idx,:]])\n",
    "    elif x == 4:\n",
    "        i_4 = np.vstack([i_4,inputs[idx,:]])\n",
    "        o_4 = np.vstack([o_4,outputs[idx,:]])\n",
    "    elif x == 5:\n",
    "        i_5 = np.vstack([i_5,inputs[idx,:]])\n",
    "        o_5 = np.vstack([o_5,outputs[idx,:]])\n",
    "    elif x == 6:\n",
    "        i_6 = np.vstack([i_6,inputs[idx,:]])\n",
    "        o_6 = np.vstack([o_6,outputs[idx,:]])\n",
    "    elif x == 7:\n",
    "        i_7 = np.vstack([i_7,inputs[idx,:]])\n",
    "        o_7 = np.vstack([o_7,outputs[idx,:]])\n",
    "    elif x == 8:\n",
    "        i_8 = np.vstack([i_8,inputs[idx,:]])\n",
    "        o_8 = np.vstack([o_8,outputs[idx,:]])\n",
    "    elif x == 9:\n",
    "        i_9 = np.vstack([i_9,inputs[idx,:]])\n",
    "        o_9 = np.vstack([o_9,outputs[idx,:]])"
   ]
  },
  {
   "cell_type": "code",
   "execution_count": 16,
   "id": "8442aee0-3e93-4b4b-a3dd-44b67d207387",
   "metadata": {},
   "outputs": [
    {
     "name": "stdout",
     "output_type": "stream",
     "text": [
      "(979, 300)\n",
      "(1133, 300)\n",
      "(1030, 300)\n",
      "(1008, 300)\n",
      "(980, 300)\n",
      "(890, 300)\n",
      "(956, 300)\n",
      "(1027, 300)\n",
      "(973, 300)\n",
      "(1008, 300)\n"
     ]
    }
   ],
   "source": [
    "print(o_0.shape)\n",
    "print(o_1.shape)\n",
    "print(o_2.shape)\n",
    "print(o_3.shape)\n",
    "print(o_4.shape)\n",
    "print(o_5.shape)\n",
    "print(o_6.shape)\n",
    "print(o_7.shape)\n",
    "print(o_8.shape)\n",
    "print(o_9.shape)"
   ]
  },
  {
   "cell_type": "markdown",
   "id": "299cc34f-e495-4215-bafd-d882170d2375",
   "metadata": {},
   "source": [
    "### Lownerize '0' examples"
   ]
  },
  {
   "cell_type": "code",
   "execution_count": 19,
   "id": "02d57aca-b0a7-4391-b0fe-538965f5cbf3",
   "metadata": {},
   "outputs": [
    {
     "name": "stdout",
     "output_type": "stream",
     "text": [
      "(150, 150, 979)\n",
      "[3 3 3 3 3 3 3 3 3 3]\n"
     ]
    }
   ],
   "source": [
    "num_rows = o_0.shape[0]\n",
    "lwn_0 = np.empty((150,150,0))\n",
    "for i in range(0,num_rows):\n",
    "    lwn_tmp = eng.loewnerize(o_0[i,:], 'T', i_0[i,:])\n",
    "    lwn_0 = np.dstack((lwn_0,lwn_tmp))\n",
    "print(lwn_0.shape)\n",
    "\n",
    "# now apply block-term decomp into (3,3,1) terms\n",
    "L = 3 * np.ones(10, dtype=int)\n",
    "print(L)\n"
   ]
  },
  {
   "cell_type": "code",
   "execution_count": 20,
   "id": "71bd0954-2a5d-4cb0-8519-92e3869eaf76",
   "metadata": {},
   "outputs": [],
   "source": [
    "Uhat = eng.ll1(lwn_0, L)"
   ]
  },
  {
   "cell_type": "code",
   "execution_count": null,
   "id": "32eff1e9-74ab-4783-8e41-2e97d8e6099a",
   "metadata": {},
   "outputs": [],
   "source": []
  }
 ],
 "metadata": {
  "kernelspec": {
   "display_name": "TensorizedRatNets",
   "language": "python",
   "name": "tensorizedratnets"
  },
  "language_info": {
   "codemirror_mode": {
    "name": "ipython",
    "version": 3
   },
   "file_extension": ".py",
   "mimetype": "text/x-python",
   "name": "python",
   "nbconvert_exporter": "python",
   "pygments_lexer": "ipython3",
   "version": "3.10.12"
  }
 },
 "nbformat": 4,
 "nbformat_minor": 5
}
